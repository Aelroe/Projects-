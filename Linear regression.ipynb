{
  "nbformat": 4,
  "nbformat_minor": 0,
  "metadata": {
    "colab": {
      "provenance": []
    },
    "kernelspec": {
      "name": "python3",
      "display_name": "Python 3"
    },
    "language_info": {
      "name": "python"
    }
  },
  "cells": [
    {
      "cell_type": "markdown",
      "source": [
        "## W 7-L 6. Machine Learning Linear Regression:Vehicle Data Analysis and Regression Models"
      ],
      "metadata": {
        "id": "kXJ-yb4Gaxfp"
      }
    },
    {
      "cell_type": "markdown",
      "source": [
        "## Part 1: Simple Linear Regression with vehicles_1.csv"
      ],
      "metadata": {
        "id": "wvTKJW9Zav5t"
      }
    },
    {
      "cell_type": "markdown",
      "source": [
        "**Importing Data and Initial Processing:**"
      ],
      "metadata": {
        "id": "lhg-ESEua_18"
      }
    },
    {
      "cell_type": "markdown",
      "source": [
        "1. Import the dataset vehicles_1.csv. Display the first five rows of the dataset"
      ],
      "metadata": {
        "id": "gPlxV3Czb1Ps"
      }
    },
    {
      "cell_type": "code",
      "source": [
        "import pandas as pd\n",
        "\n",
        "vehicles_1 = pd.read_csv('vehicles_1.csv')\n",
        "\n",
        "vehicles_1.head()"
      ],
      "metadata": {
        "colab": {
          "base_uri": "https://localhost:8080/",
          "height": 206
        },
        "id": "FVASHFgub_Fs",
        "outputId": "d038d2c9-faa5-4594-f8c9-9b533f977a87"
      },
      "execution_count": null,
      "outputs": [
        {
          "output_type": "execute_result",
          "data": {
            "text/plain": [
              "   weight   mpg\n",
              "0   2.639  28.0\n",
              "1   3.517  25.0\n",
              "2   3.470  26.0\n",
              "3   3.850  22.0\n",
              "4   2.998  27.0"
            ],
            "text/html": [
              "\n",
              "  <div id=\"df-e4239c9a-e296-4195-8161-c4aa0be87fe0\" class=\"colab-df-container\">\n",
              "    <div>\n",
              "<style scoped>\n",
              "    .dataframe tbody tr th:only-of-type {\n",
              "        vertical-align: middle;\n",
              "    }\n",
              "\n",
              "    .dataframe tbody tr th {\n",
              "        vertical-align: top;\n",
              "    }\n",
              "\n",
              "    .dataframe thead th {\n",
              "        text-align: right;\n",
              "    }\n",
              "</style>\n",
              "<table border=\"1\" class=\"dataframe\">\n",
              "  <thead>\n",
              "    <tr style=\"text-align: right;\">\n",
              "      <th></th>\n",
              "      <th>weight</th>\n",
              "      <th>mpg</th>\n",
              "    </tr>\n",
              "  </thead>\n",
              "  <tbody>\n",
              "    <tr>\n",
              "      <th>0</th>\n",
              "      <td>2.639</td>\n",
              "      <td>28.0</td>\n",
              "    </tr>\n",
              "    <tr>\n",
              "      <th>1</th>\n",
              "      <td>3.517</td>\n",
              "      <td>25.0</td>\n",
              "    </tr>\n",
              "    <tr>\n",
              "      <th>2</th>\n",
              "      <td>3.470</td>\n",
              "      <td>26.0</td>\n",
              "    </tr>\n",
              "    <tr>\n",
              "      <th>3</th>\n",
              "      <td>3.850</td>\n",
              "      <td>22.0</td>\n",
              "    </tr>\n",
              "    <tr>\n",
              "      <th>4</th>\n",
              "      <td>2.998</td>\n",
              "      <td>27.0</td>\n",
              "    </tr>\n",
              "  </tbody>\n",
              "</table>\n",
              "</div>\n",
              "    <div class=\"colab-df-buttons\">\n",
              "\n",
              "  <div class=\"colab-df-container\">\n",
              "    <button class=\"colab-df-convert\" onclick=\"convertToInteractive('df-e4239c9a-e296-4195-8161-c4aa0be87fe0')\"\n",
              "            title=\"Convert this dataframe to an interactive table.\"\n",
              "            style=\"display:none;\">\n",
              "\n",
              "  <svg xmlns=\"http://www.w3.org/2000/svg\" height=\"24px\" viewBox=\"0 -960 960 960\">\n",
              "    <path d=\"M120-120v-720h720v720H120Zm60-500h600v-160H180v160Zm220 220h160v-160H400v160Zm0 220h160v-160H400v160ZM180-400h160v-160H180v160Zm440 0h160v-160H620v160ZM180-180h160v-160H180v160Zm440 0h160v-160H620v160Z\"/>\n",
              "  </svg>\n",
              "    </button>\n",
              "\n",
              "  <style>\n",
              "    .colab-df-container {\n",
              "      display:flex;\n",
              "      gap: 12px;\n",
              "    }\n",
              "\n",
              "    .colab-df-convert {\n",
              "      background-color: #E8F0FE;\n",
              "      border: none;\n",
              "      border-radius: 50%;\n",
              "      cursor: pointer;\n",
              "      display: none;\n",
              "      fill: #1967D2;\n",
              "      height: 32px;\n",
              "      padding: 0 0 0 0;\n",
              "      width: 32px;\n",
              "    }\n",
              "\n",
              "    .colab-df-convert:hover {\n",
              "      background-color: #E2EBFA;\n",
              "      box-shadow: 0px 1px 2px rgba(60, 64, 67, 0.3), 0px 1px 3px 1px rgba(60, 64, 67, 0.15);\n",
              "      fill: #174EA6;\n",
              "    }\n",
              "\n",
              "    .colab-df-buttons div {\n",
              "      margin-bottom: 4px;\n",
              "    }\n",
              "\n",
              "    [theme=dark] .colab-df-convert {\n",
              "      background-color: #3B4455;\n",
              "      fill: #D2E3FC;\n",
              "    }\n",
              "\n",
              "    [theme=dark] .colab-df-convert:hover {\n",
              "      background-color: #434B5C;\n",
              "      box-shadow: 0px 1px 3px 1px rgba(0, 0, 0, 0.15);\n",
              "      filter: drop-shadow(0px 1px 2px rgba(0, 0, 0, 0.3));\n",
              "      fill: #FFFFFF;\n",
              "    }\n",
              "  </style>\n",
              "\n",
              "    <script>\n",
              "      const buttonEl =\n",
              "        document.querySelector('#df-e4239c9a-e296-4195-8161-c4aa0be87fe0 button.colab-df-convert');\n",
              "      buttonEl.style.display =\n",
              "        google.colab.kernel.accessAllowed ? 'block' : 'none';\n",
              "\n",
              "      async function convertToInteractive(key) {\n",
              "        const element = document.querySelector('#df-e4239c9a-e296-4195-8161-c4aa0be87fe0');\n",
              "        const dataTable =\n",
              "          await google.colab.kernel.invokeFunction('convertToInteractive',\n",
              "                                                    [key], {});\n",
              "        if (!dataTable) return;\n",
              "\n",
              "        const docLinkHtml = 'Like what you see? Visit the ' +\n",
              "          '<a target=\"_blank\" href=https://colab.research.google.com/notebooks/data_table.ipynb>data table notebook</a>'\n",
              "          + ' to learn more about interactive tables.';\n",
              "        element.innerHTML = '';\n",
              "        dataTable['output_type'] = 'display_data';\n",
              "        await google.colab.output.renderOutput(dataTable, element);\n",
              "        const docLink = document.createElement('div');\n",
              "        docLink.innerHTML = docLinkHtml;\n",
              "        element.appendChild(docLink);\n",
              "      }\n",
              "    </script>\n",
              "  </div>\n",
              "\n",
              "\n",
              "<div id=\"df-b275612d-e733-47f3-be95-aa2bf914b7d4\">\n",
              "  <button class=\"colab-df-quickchart\" onclick=\"quickchart('df-b275612d-e733-47f3-be95-aa2bf914b7d4')\"\n",
              "            title=\"Suggest charts\"\n",
              "            style=\"display:none;\">\n",
              "\n",
              "<svg xmlns=\"http://www.w3.org/2000/svg\" height=\"24px\"viewBox=\"0 0 24 24\"\n",
              "     width=\"24px\">\n",
              "    <g>\n",
              "        <path d=\"M19 3H5c-1.1 0-2 .9-2 2v14c0 1.1.9 2 2 2h14c1.1 0 2-.9 2-2V5c0-1.1-.9-2-2-2zM9 17H7v-7h2v7zm4 0h-2V7h2v10zm4 0h-2v-4h2v4z\"/>\n",
              "    </g>\n",
              "</svg>\n",
              "  </button>\n",
              "\n",
              "<style>\n",
              "  .colab-df-quickchart {\n",
              "      --bg-color: #E8F0FE;\n",
              "      --fill-color: #1967D2;\n",
              "      --hover-bg-color: #E2EBFA;\n",
              "      --hover-fill-color: #174EA6;\n",
              "      --disabled-fill-color: #AAA;\n",
              "      --disabled-bg-color: #DDD;\n",
              "  }\n",
              "\n",
              "  [theme=dark] .colab-df-quickchart {\n",
              "      --bg-color: #3B4455;\n",
              "      --fill-color: #D2E3FC;\n",
              "      --hover-bg-color: #434B5C;\n",
              "      --hover-fill-color: #FFFFFF;\n",
              "      --disabled-bg-color: #3B4455;\n",
              "      --disabled-fill-color: #666;\n",
              "  }\n",
              "\n",
              "  .colab-df-quickchart {\n",
              "    background-color: var(--bg-color);\n",
              "    border: none;\n",
              "    border-radius: 50%;\n",
              "    cursor: pointer;\n",
              "    display: none;\n",
              "    fill: var(--fill-color);\n",
              "    height: 32px;\n",
              "    padding: 0;\n",
              "    width: 32px;\n",
              "  }\n",
              "\n",
              "  .colab-df-quickchart:hover {\n",
              "    background-color: var(--hover-bg-color);\n",
              "    box-shadow: 0 1px 2px rgba(60, 64, 67, 0.3), 0 1px 3px 1px rgba(60, 64, 67, 0.15);\n",
              "    fill: var(--button-hover-fill-color);\n",
              "  }\n",
              "\n",
              "  .colab-df-quickchart-complete:disabled,\n",
              "  .colab-df-quickchart-complete:disabled:hover {\n",
              "    background-color: var(--disabled-bg-color);\n",
              "    fill: var(--disabled-fill-color);\n",
              "    box-shadow: none;\n",
              "  }\n",
              "\n",
              "  .colab-df-spinner {\n",
              "    border: 2px solid var(--fill-color);\n",
              "    border-color: transparent;\n",
              "    border-bottom-color: var(--fill-color);\n",
              "    animation:\n",
              "      spin 1s steps(1) infinite;\n",
              "  }\n",
              "\n",
              "  @keyframes spin {\n",
              "    0% {\n",
              "      border-color: transparent;\n",
              "      border-bottom-color: var(--fill-color);\n",
              "      border-left-color: var(--fill-color);\n",
              "    }\n",
              "    20% {\n",
              "      border-color: transparent;\n",
              "      border-left-color: var(--fill-color);\n",
              "      border-top-color: var(--fill-color);\n",
              "    }\n",
              "    30% {\n",
              "      border-color: transparent;\n",
              "      border-left-color: var(--fill-color);\n",
              "      border-top-color: var(--fill-color);\n",
              "      border-right-color: var(--fill-color);\n",
              "    }\n",
              "    40% {\n",
              "      border-color: transparent;\n",
              "      border-right-color: var(--fill-color);\n",
              "      border-top-color: var(--fill-color);\n",
              "    }\n",
              "    60% {\n",
              "      border-color: transparent;\n",
              "      border-right-color: var(--fill-color);\n",
              "    }\n",
              "    80% {\n",
              "      border-color: transparent;\n",
              "      border-right-color: var(--fill-color);\n",
              "      border-bottom-color: var(--fill-color);\n",
              "    }\n",
              "    90% {\n",
              "      border-color: transparent;\n",
              "      border-bottom-color: var(--fill-color);\n",
              "    }\n",
              "  }\n",
              "</style>\n",
              "\n",
              "  <script>\n",
              "    async function quickchart(key) {\n",
              "      const quickchartButtonEl =\n",
              "        document.querySelector('#' + key + ' button');\n",
              "      quickchartButtonEl.disabled = true;  // To prevent multiple clicks.\n",
              "      quickchartButtonEl.classList.add('colab-df-spinner');\n",
              "      try {\n",
              "        const charts = await google.colab.kernel.invokeFunction(\n",
              "            'suggestCharts', [key], {});\n",
              "      } catch (error) {\n",
              "        console.error('Error during call to suggestCharts:', error);\n",
              "      }\n",
              "      quickchartButtonEl.classList.remove('colab-df-spinner');\n",
              "      quickchartButtonEl.classList.add('colab-df-quickchart-complete');\n",
              "    }\n",
              "    (() => {\n",
              "      let quickchartButtonEl =\n",
              "        document.querySelector('#df-b275612d-e733-47f3-be95-aa2bf914b7d4 button');\n",
              "      quickchartButtonEl.style.display =\n",
              "        google.colab.kernel.accessAllowed ? 'block' : 'none';\n",
              "    })();\n",
              "  </script>\n",
              "</div>\n",
              "\n",
              "    </div>\n",
              "  </div>\n"
            ],
            "application/vnd.google.colaboratory.intrinsic+json": {
              "type": "dataframe",
              "variable_name": "vehicles_1",
              "summary": "{\n  \"name\": \"vehicles_1\",\n  \"rows\": 157,\n  \"fields\": [\n    {\n      \"column\": \"weight\",\n      \"properties\": {\n        \"dtype\": \"number\",\n        \"std\": 0.6184603006552564,\n        \"min\": 1.895,\n        \"max\": 5.572,\n        \"num_unique_values\": 137,\n        \"samples\": [\n          3.528,\n          2.942,\n          3.778\n        ],\n        \"semantic_type\": \"\",\n        \"description\": \"\"\n      }\n    },\n    {\n      \"column\": \"mpg\",\n      \"properties\": {\n        \"dtype\": \"number\",\n        \"std\": 4.282705561885176,\n        \"min\": 15.0,\n        \"max\": 45.0,\n        \"num_unique_values\": 20,\n        \"samples\": [\n          28.0,\n          32.0,\n          30.0\n        ],\n        \"semantic_type\": \"\",\n        \"description\": \"\"\n      }\n    }\n  ]\n}"
            }
          },
          "metadata": {},
          "execution_count": 1
        }
      ]
    },
    {
      "cell_type": "markdown",
      "source": [
        "2. Check for any missing values in the dataset. If found, describe your approach to handling them"
      ],
      "metadata": {
        "id": "3plY_boGb_wD"
      }
    },
    {
      "cell_type": "code",
      "source": [
        "missing_values = vehicles_1.isnull().sum()\n",
        "\n",
        "print(missing_values)"
      ],
      "metadata": {
        "colab": {
          "base_uri": "https://localhost:8080/"
        },
        "id": "XxfrHBHGcEJH",
        "outputId": "c4014094-a597-499c-ab2a-86e9f6b65307"
      },
      "execution_count": null,
      "outputs": [
        {
          "output_type": "stream",
          "name": "stdout",
          "text": [
            "weight    12\n",
            "mpg        3\n",
            "dtype: int64\n"
          ]
        }
      ]
    },
    {
      "cell_type": "markdown",
      "source": [
        "- For numerical columns like weight and mpg, we cab impute missing values using the mean or median. Which is a non-destructive way to retain the data"
      ],
      "metadata": {
        "id": "qyeQHviYcEZM"
      }
    },
    {
      "cell_type": "markdown",
      "source": [
        "**Descriptive Statistics:**"
      ],
      "metadata": {
        "id": "fQJwLca6cNxa"
      }
    },
    {
      "cell_type": "markdown",
      "source": [
        "3. Use pandas to display a summary of each column in the dataset. Highlight any\n",
        "peculiarities you notice (e.g., missing values, unusual data ranges)."
      ],
      "metadata": {
        "id": "CXFDJurjcSJR"
      }
    },
    {
      "cell_type": "code",
      "source": [
        "summary_stats = vehicles_1.describe()\n",
        "\n",
        "print(summary_stats)"
      ],
      "metadata": {
        "colab": {
          "base_uri": "https://localhost:8080/"
        },
        "id": "0hioVd05cX_7",
        "outputId": "bf9a73b3-c10a-453d-ca55-970fe0f12ea4"
      },
      "execution_count": null,
      "outputs": [
        {
          "output_type": "stream",
          "name": "stdout",
          "text": [
            "           weight         mpg\n",
            "count  145.000000  154.000000\n",
            "mean     3.369848   23.844156\n",
            "std      0.618460    4.282706\n",
            "min      1.895000   15.000000\n",
            "25%      2.967000   21.000000\n",
            "50%      3.340000   24.000000\n",
            "75%      3.821000   26.000000\n",
            "max      5.572000   45.000000\n"
          ]
        }
      ]
    },
    {
      "cell_type": "markdown",
      "source": [
        "The highest weight is 5.572 and mpg is 45 but all data seems have a reasonalble data range in the context of vehicles currently on the road and there were a few missing values for each column as highlighted in Q.2"
      ],
      "metadata": {
        "id": "IgBaN-Mvh3Mh"
      }
    },
    {
      "cell_type": "markdown",
      "source": [
        "4. Plot histograms for both weight and\n",
        "mpg. Are the distributions skewed? Comment on their shapes."
      ],
      "metadata": {
        "id": "v-y_dpnvcZYU"
      }
    },
    {
      "cell_type": "code",
      "source": [
        "import matplotlib.pyplot as plt\n",
        "\n",
        "plt.figure(figsize=(12, 5))\n",
        "\n",
        "plt.subplot(1, 2, 1)\n",
        "vehicles_1['weight'].hist(bins=20, edgecolor='black')\n",
        "plt.title('Histogram of Weight')\n",
        "plt.xlabel('Weight')\n",
        "plt.ylabel('Frequency')\n",
        "\n",
        "plt.subplot(1, 2, 2)\n",
        "vehicles_1['mpg'].hist(bins=20, edgecolor='black')\n",
        "plt.title('Histogram of MPG')\n",
        "plt.xlabel('MPG')\n",
        "plt.ylabel('Frequency')\n",
        "\n",
        "plt.tight_layout()\n",
        "plt.show()\n"
      ],
      "metadata": {
        "colab": {
          "base_uri": "https://localhost:8080/",
          "height": 507
        },
        "id": "5LTveRBVcdRM",
        "outputId": "cdeb94a8-0bc1-495e-9a3b-d95ed1f11a64"
      },
      "execution_count": null,
      "outputs": [
        {
          "output_type": "display_data",
          "data": {
            "text/plain": [
              "<Figure size 1200x500 with 2 Axes>"
            ],
            "image/png": "[encoded data removed]"
          },
          "metadata": {}
        }
      ]
    },
    {
      "cell_type": "markdown",
      "source": [
        "Weight Distribution: The weight distribution data shows a slight right skew, primarily grouping between 3.0 and 3.5. Heavier vehicles above 4.5 are less common.\n",
        "\n",
        "MPG Distribution: Similarly, the mpg data is right-skewed, with the majority of values ranging from 20 to 30 mpg. A few outliers are found around 45 mpg."
      ],
      "metadata": {
        "id": "8YGJtJ_qcdrd"
      }
    },
    {
      "cell_type": "markdown",
      "source": [
        "**Data Preprocessing:**"
      ],
      "metadata": {
        "id": "T4VkpZTLcoM2"
      }
    },
    {
      "cell_type": "markdown",
      "source": [
        "5. If there are any missing values, impute them using an appropriate method (e.g.,mean imputation)"
      ],
      "metadata": {
        "id": "ZXN2aX6fc1XU"
      }
    },
    {
      "cell_type": "code",
      "source": [
        "vehicles_1['weight'] = vehicles_1['weight'].fillna(vehicles_1['weight'].mean())\n",
        "vehicles_1['mpg'] = vehicles_1['mpg'].fillna(vehicles_1['mpg'].mean())\n",
        "\n",
        "print(vehicles_1.isnull().sum())"
      ],
      "metadata": {
        "colab": {
          "base_uri": "https://localhost:8080/"
        },
        "id": "01l07RbAc9Bx",
        "outputId": "37969d86-1898-460d-8f07-bf71b745d749"
      },
      "execution_count": null,
      "outputs": [
        {
          "output_type": "stream",
          "name": "stdout",
          "text": [
            "weight    0\n",
            "mpg       0\n",
            "dtype: int64\n"
          ]
        }
      ]
    },
    {
      "cell_type": "markdown",
      "source": [
        "6. Standardize the weight and mpg columns by scaling them to have a mean of 0 and a\n",
        "standard deviation of 1."
      ],
      "metadata": {
        "id": "4kKMr6Vwc-Gr"
      }
    },
    {
      "cell_type": "code",
      "source": [
        "vehicles_1['weight_standardized'] = (vehicles_1['weight'] - vehicles_1['weight'].mean()) / vehicles_1['weight'].std()\n",
        "vehicles_1['mpg_standardized'] = (vehicles_1['mpg'] - vehicles_1['mpg'].mean()) / vehicles_1['mpg'].std()\n",
        "\n",
        "vehicles_1[['weight_standardized', 'mpg_standardized']].head()"
      ],
      "metadata": {
        "colab": {
          "base_uri": "https://localhost:8080/",
          "height": 206
        },
        "id": "Bx_ntMZ9dB8j",
        "outputId": "affaf9f6-6f8a-4917-e6a0-0835554d9af5"
      },
      "execution_count": null,
      "outputs": [
        {
          "output_type": "execute_result",
          "data": {
            "text/plain": [
              "   weight_standardized  mpg_standardized\n",
              "0            -1.229975          0.979846\n",
              "1             0.247648          0.272520\n",
              "2             0.168550          0.508295\n",
              "3             0.808068         -0.434806\n",
              "4            -0.625799          0.744070"
            ],
            "text/html": [
              "\n",
              "  <div id=\"df-3513f338-34e1-4e6e-aa59-fe2064c501a4\" class=\"colab-df-container\">\n",
              "    <div>\n",
              "<style scoped>\n",
              "    .dataframe tbody tr th:only-of-type {\n",
              "        vertical-align: middle;\n",
              "    }\n",
              "\n",
              "    .dataframe tbody tr th {\n",
              "        vertical-align: top;\n",
              "    }\n",
              "\n",
              "    .dataframe thead th {\n",
              "        text-align: right;\n",
              "    }\n",
              "</style>\n",
              "<table border=\"1\" class=\"dataframe\">\n",
              "  <thead>\n",
              "    <tr style=\"text-align: right;\">\n",
              "      <th></th>\n",
              "      <th>weight_standardized</th>\n",
              "      <th>mpg_standardized</th>\n",
              "    </tr>\n",
              "  </thead>\n",
              "  <tbody>\n",
              "    <tr>\n",
              "      <th>0</th>\n",
              "      <td>-1.229975</td>\n",
              "      <td>0.979846</td>\n",
              "    </tr>\n",
              "    <tr>\n",
              "      <th>1</th>\n",
              "      <td>0.247648</td>\n",
              "      <td>0.272520</td>\n",
              "    </tr>\n",
              "    <tr>\n",
              "      <th>2</th>\n",
              "      <td>0.168550</td>\n",
              "      <td>0.508295</td>\n",
              "    </tr>\n",
              "    <tr>\n",
              "      <th>3</th>\n",
              "      <td>0.808068</td>\n",
              "      <td>-0.434806</td>\n",
              "    </tr>\n",
              "    <tr>\n",
              "      <th>4</th>\n",
              "      <td>-0.625799</td>\n",
              "      <td>0.744070</td>\n",
              "    </tr>\n",
              "  </tbody>\n",
              "</table>\n",
              "</div>\n",
              "    <div class=\"colab-df-buttons\">\n",
              "\n",
              "  <div class=\"colab-df-container\">\n",
              "    <button class=\"colab-df-convert\" onclick=\"convertToInteractive('df-3513f338-34e1-4e6e-aa59-fe2064c501a4')\"\n",
              "            title=\"Convert this dataframe to an interactive table.\"\n",
              "            style=\"display:none;\">\n",
              "\n",
              "  <svg xmlns=\"http://www.w3.org/2000/svg\" height=\"24px\" viewBox=\"0 -960 960 960\">\n",
              "    <path d=\"M120-120v-720h720v720H120Zm60-500h600v-160H180v160Zm220 220h160v-160H400v160Zm0 220h160v-160H400v160ZM180-400h160v-160H180v160Zm440 0h160v-160H620v160ZM180-180h160v-160H180v160Zm440 0h160v-160H620v160Z\"/>\n",
              "  </svg>\n",
              "    </button>\n",
              "\n",
              "  <style>\n",
              "    .colab-df-container {\n",
              "      display:flex;\n",
              "      gap: 12px;\n",
              "    }\n",
              "\n",
              "    .colab-df-convert {\n",
              "      background-color: #E8F0FE;\n",
              "      border: none;\n",
              "      border-radius: 50%;\n",
              "      cursor: pointer;\n",
              "      display: none;\n",
              "      fill: #1967D2;\n",
              "      height: 32px;\n",
              "      padding: 0 0 0 0;\n",
              "      width: 32px;\n",
              "    }\n",
              "\n",
              "    .colab-df-convert:hover {\n",
              "      background-color: #E2EBFA;\n",
              "      box-shadow: 0px 1px 2px rgba(60, 64, 67, 0.3), 0px 1px 3px 1px rgba(60, 64, 67, 0.15);\n",
              "      fill: #174EA6;\n",
              "    }\n",
              "\n",
              "    .colab-df-buttons div {\n",
              "      margin-bottom: 4px;\n",
              "    }\n",
              "\n",
              "    [theme=dark] .colab-df-convert {\n",
              "      background-color: #3B4455;\n",
              "      fill: #D2E3FC;\n",
              "    }\n",
              "\n",
              "    [theme=dark] .colab-df-convert:hover {\n",
              "      background-color: #434B5C;\n",
              "      box-shadow: 0px 1px 3px 1px rgba(0, 0, 0, 0.15);\n",
              "      filter: drop-shadow(0px 1px 2px rgba(0, 0, 0, 0.3));\n",
              "      fill: #FFFFFF;\n",
              "    }\n",
              "  </style>\n",
              "\n",
              "    <script>\n",
              "      const buttonEl =\n",
              "        document.querySelector('#df-3513f338-34e1-4e6e-aa59-fe2064c501a4 button.colab-df-convert');\n",
              "      buttonEl.style.display =\n",
              "        google.colab.kernel.accessAllowed ? 'block' : 'none';\n",
              "\n",
              "      async function convertToInteractive(key) {\n",
              "        const element = document.querySelector('#df-3513f338-34e1-4e6e-aa59-fe2064c501a4');\n",
              "        const dataTable =\n",
              "          await google.colab.kernel.invokeFunction('convertToInteractive',\n",
              "                                                    [key], {});\n",
              "        if (!dataTable) return;\n",
              "\n",
              "        const docLinkHtml = 'Like what you see? Visit the ' +\n",
              "          '<a target=\"_blank\" href=https://colab.research.google.com/notebooks/data_table.ipynb>data table notebook</a>'\n",
              "          + ' to learn more about interactive tables.';\n",
              "        element.innerHTML = '';\n",
              "        dataTable['output_type'] = 'display_data';\n",
              "        await google.colab.output.renderOutput(dataTable, element);\n",
              "        const docLink = document.createElement('div');\n",
              "        docLink.innerHTML = docLinkHtml;\n",
              "        element.appendChild(docLink);\n",
              "      }\n",
              "    </script>\n",
              "  </div>\n",
              "\n",
              "\n",
              "<div id=\"df-86e39f8d-5221-45a0-b5a8-a86aef13e874\">\n",
              "  <button class=\"colab-df-quickchart\" onclick=\"quickchart('df-86e39f8d-5221-45a0-b5a8-a86aef13e874')\"\n",
              "            title=\"Suggest charts\"\n",
              "            style=\"display:none;\">\n",
              "\n",
              "<svg xmlns=\"http://www.w3.org/2000/svg\" height=\"24px\"viewBox=\"0 0 24 24\"\n",
              "     width=\"24px\">\n",
              "    <g>\n",
              "        <path d=\"M19 3H5c-1.1 0-2 .9-2 2v14c0 1.1.9 2 2 2h14c1.1 0 2-.9 2-2V5c0-1.1-.9-2-2-2zM9 17H7v-7h2v7zm4 0h-2V7h2v10zm4 0h-2v-4h2v4z\"/>\n",
              "    </g>\n",
              "</svg>\n",
              "  </button>\n",
              "\n",
              "<style>\n",
              "  .colab-df-quickchart {\n",
              "      --bg-color: #E8F0FE;\n",
              "      --fill-color: #1967D2;\n",
              "      --hover-bg-color: #E2EBFA;\n",
              "      --hover-fill-color: #174EA6;\n",
              "      --disabled-fill-color: #AAA;\n",
              "      --disabled-bg-color: #DDD;\n",
              "  }\n",
              "\n",
              "  [theme=dark] .colab-df-quickchart {\n",
              "      --bg-color: #3B4455;\n",
              "      --fill-color: #D2E3FC;\n",
              "      --hover-bg-color: #434B5C;\n",
              "      --hover-fill-color: #FFFFFF;\n",
              "      --disabled-bg-color: #3B4455;\n",
              "      --disabled-fill-color: #666;\n",
              "  }\n",
              "\n",
              "  .colab-df-quickchart {\n",
              "    background-color: var(--bg-color);\n",
              "    border: none;\n",
              "    border-radius: 50%;\n",
              "    cursor: pointer;\n",
              "    display: none;\n",
              "    fill: var(--fill-color);\n",
              "    height: 32px;\n",
              "    padding: 0;\n",
              "    width: 32px;\n",
              "  }\n",
              "\n",
              "  .colab-df-quickchart:hover {\n",
              "    background-color: var(--hover-bg-color);\n",
              "    box-shadow: 0 1px 2px rgba(60, 64, 67, 0.3), 0 1px 3px 1px rgba(60, 64, 67, 0.15);\n",
              "    fill: var(--button-hover-fill-color);\n",
              "  }\n",
              "\n",
              "  .colab-df-quickchart-complete:disabled,\n",
              "  .colab-df-quickchart-complete:disabled:hover {\n",
              "    background-color: var(--disabled-bg-color);\n",
              "    fill: var(--disabled-fill-color);\n",
              "    box-shadow: none;\n",
              "  }\n",
              "\n",
              "  .colab-df-spinner {\n",
              "    border: 2px solid var(--fill-color);\n",
              "    border-color: transparent;\n",
              "    border-bottom-color: var(--fill-color);\n",
              "    animation:\n",
              "      spin 1s steps(1) infinite;\n",
              "  }\n",
              "\n",
              "  @keyframes spin {\n",
              "    0% {\n",
              "      border-color: transparent;\n",
              "      border-bottom-color: var(--fill-color);\n",
              "      border-left-color: var(--fill-color);\n",
              "    }\n",
              "    20% {\n",
              "      border-color: transparent;\n",
              "      border-left-color: var(--fill-color);\n",
              "      border-top-color: var(--fill-color);\n",
              "    }\n",
              "    30% {\n",
              "      border-color: transparent;\n",
              "      border-left-color: var(--fill-color);\n",
              "      border-top-color: var(--fill-color);\n",
              "      border-right-color: var(--fill-color);\n",
              "    }\n",
              "    40% {\n",
              "      border-color: transparent;\n",
              "      border-right-color: var(--fill-color);\n",
              "      border-top-color: var(--fill-color);\n",
              "    }\n",
              "    60% {\n",
              "      border-color: transparent;\n",
              "      border-right-color: var(--fill-color);\n",
              "    }\n",
              "    80% {\n",
              "      border-color: transparent;\n",
              "      border-right-color: var(--fill-color);\n",
              "      border-bottom-color: var(--fill-color);\n",
              "    }\n",
              "    90% {\n",
              "      border-color: transparent;\n",
              "      border-bottom-color: var(--fill-color);\n",
              "    }\n",
              "  }\n",
              "</style>\n",
              "\n",
              "  <script>\n",
              "    async function quickchart(key) {\n",
              "      const quickchartButtonEl =\n",
              "        document.querySelector('#' + key + ' button');\n",
              "      quickchartButtonEl.disabled = true;  // To prevent multiple clicks.\n",
              "      quickchartButtonEl.classList.add('colab-df-spinner');\n",
              "      try {\n",
              "        const charts = await google.colab.kernel.invokeFunction(\n",
              "            'suggestCharts', [key], {});\n",
              "      } catch (error) {\n",
              "        console.error('Error during call to suggestCharts:', error);\n",
              "      }\n",
              "      quickchartButtonEl.classList.remove('colab-df-spinner');\n",
              "      quickchartButtonEl.classList.add('colab-df-quickchart-complete');\n",
              "    }\n",
              "    (() => {\n",
              "      let quickchartButtonEl =\n",
              "        document.querySelector('#df-86e39f8d-5221-45a0-b5a8-a86aef13e874 button');\n",
              "      quickchartButtonEl.style.display =\n",
              "        google.colab.kernel.accessAllowed ? 'block' : 'none';\n",
              "    })();\n",
              "  </script>\n",
              "</div>\n",
              "\n",
              "    </div>\n",
              "  </div>\n"
            ],
            "application/vnd.google.colaboratory.intrinsic+json": {
              "type": "dataframe",
              "summary": "{\n  \"name\": \"vehicles_1[['weight_standardized', 'mpg_standardized']]\",\n  \"rows\": 5,\n  \"fields\": [\n    {\n      \"column\": \"weight_standardized\",\n      \"properties\": {\n        \"dtype\": \"number\",\n        \"std\": 0.8011577829292296,\n        \"min\": -1.2299754770181834,\n        \"max\": 0.8080676461075906,\n        \"num_unique_values\": 5,\n        \"samples\": [\n          0.24764786080545775,\n          -0.6257991919627304,\n          0.16854957278984192\n        ],\n        \"semantic_type\": \"\",\n        \"description\": \"\"\n      }\n    },\n    {\n      \"column\": \"mpg_standardized\",\n      \"properties\": {\n        \"dtype\": \"number\",\n        \"std\": 0.5427955782197527,\n        \"min\": -0.43480645765705317,\n        \"max\": 0.9798455383820928,\n        \"num_unique_values\": 5,\n        \"samples\": [\n          0.2725195403625198,\n          0.7440702057089018,\n          0.5082948730357107\n        ],\n        \"semantic_type\": \"\",\n        \"description\": \"\"\n      }\n    }\n  ]\n}"
            }
          },
          "metadata": {},
          "execution_count": 10
        }
      ]
    },
    {
      "cell_type": "markdown",
      "source": [
        "**Simple Linear Regression:**"
      ],
      "metadata": {
        "id": "6id_Zv7VdCrT"
      }
    },
    {
      "cell_type": "markdown",
      "source": [
        "7. Build a simple linear regression model to predict mpg based on weight.\n",
        "Provide the code to fit the model."
      ],
      "metadata": {
        "id": "eHmGTgRHdHYg"
      }
    },
    {
      "cell_type": "code",
      "source": [
        "from sklearn.linear_model import LinearRegression\n",
        "\n",
        "X = vehicles_1[['weight']].values  # Predictor (weight)\n",
        "y = vehicles_1['mpg'].values  # Target (mpg)\n",
        "\n",
        "model = LinearRegression()\n",
        "model.fit(X, y)\n",
        "\n",
        "print(f\"Coefficient (slope): {model.coef_[0]}\")\n",
        "print(f\"Intercept: {model.intercept_}\")"
      ],
      "metadata": {
        "colab": {
          "base_uri": "https://localhost:8080/"
        },
        "id": "HF4lBmuqdKWk",
        "outputId": "296df8a3-cd6d-41c7-bf82-d61b53a4226e"
      },
      "execution_count": null,
      "outputs": [
        {
          "output_type": "stream",
          "name": "stdout",
          "text": [
            "Coefficient (slope): -5.59673815875272\n",
            "Intercept: 42.70431427888015\n"
          ]
        }
      ]
    },
    {
      "cell_type": "markdown",
      "source": [
        "8. Display the equation of the fitted line and interpret the coefficients."
      ],
      "metadata": {
        "id": "kJXYbTQQdKuG"
      }
    },
    {
      "cell_type": "markdown",
      "source": [
        "- mpg = −5.60 × weight + 42.70 (mpg=slope×weight+intercept)\n",
        "- Slope (-5.60): For every unit increase in weight, mpg drops by 5.60, as vehicles get heavier, their fuel efficiency drops.\n",
        "- Intercept (42.70): Predicted mpg when weight is zero (though that's not realistic for vehicles). It helps position the regression line correctly on the graph.\n"
      ],
      "metadata": {
        "id": "W3KaxIPNlVUF"
      }
    },
    {
      "cell_type": "markdown",
      "source": [
        "9.\n",
        "Plot the regression line along with the actual data points for visualization."
      ],
      "metadata": {
        "id": "vDJxt3Q0dNaZ"
      }
    },
    {
      "cell_type": "code",
      "source": [
        "plt.scatter(vehicles_1['weight'], vehicles_1['mpg'], color='blue', label='Actual Data')\n",
        "\n",
        "regression_line = model.coef_[0] * vehicles_1['weight'] + model.intercept_\n",
        "\n",
        "plt.plot(vehicles_1['weight'], regression_line, color='red', label='Regression Line')\n",
        "\n",
        "plt.xlabel('Weight')\n",
        "plt.ylabel('MPG')\n",
        "plt.title('Simple Linear Regression: Weight vs. MPG')\n",
        "plt.legend()\n",
        "\n",
        "plt.show()"
      ],
      "metadata": {
        "colab": {
          "base_uri": "https://localhost:8080/",
          "height": 472
        },
        "id": "m3NDZ8PKdQmZ",
        "outputId": "9b8b6e14-d6f3-407a-9036-776436ad5eac"
      },
      "execution_count": null,
      "outputs": [
        {
          "output_type": "display_data",
          "data": {
            "text/plain": [
              "<Figure size 640x480 with 1 Axes>"
            ],
            "image/png": "[encoded data removed]"
          },
          "metadata": {}
        }
      ]
    },
    {
      "cell_type": "markdown",
      "source": [
        "10. Evaluate the model\n",
        "performance by calculating and displaying the R-squared value and the root mean squared error (RMSE)."
      ],
      "metadata": {
        "id": "CDcrDd3rdQ2z"
      }
    },
    {
      "cell_type": "code",
      "source": [
        "from sklearn.metrics import mean_squared_error, r2_score\n",
        "\n",
        "y_pred = model.predict(X)\n",
        "\n",
        "r_squared = r2_score(y, y_pred)\n",
        "\n",
        "rmse = np.sqrt(mean_squared_error(y, y_pred))\n",
        "\n",
        "print(f\"R-squared: {r_squared}\")\n",
        "print(f\"RMSE: {rmse}\")"
      ],
      "metadata": {
        "colab": {
          "base_uri": "https://localhost:8080/"
        },
        "id": "nxlcd95KdUWi",
        "outputId": "7e4b03bf-aac0-422d-be2f-9017cd9f9378"
      },
      "execution_count": null,
      "outputs": [
        {
          "output_type": "stream",
          "name": "stdout",
          "text": [
            "R-squared: 0.6147920727373156\n",
            "RMSE: 2.623987214881387\n"
          ]
        }
      ]
    },
    {
      "cell_type": "markdown",
      "source": [
        "# Part 2: Multiple Linear Regression with vehicles_2.csv"
      ],
      "metadata": {
        "id": "hWkkSMI8dd_F"
      }
    },
    {
      "cell_type": "markdown",
      "source": [
        "**Importing Data and Initial Processing:**"
      ],
      "metadata": {
        "id": "jRSW8l-7dh1w"
      }
    },
    {
      "cell_type": "markdown",
      "source": [
        "1. Import the dataset vehicles_2.csv into a pandas DataFrame. Display the first five rows of the\n",
        "dataset"
      ],
      "metadata": {
        "id": "wwvtRCeRdmrJ"
      }
    },
    {
      "cell_type": "code",
      "source": [
        "vehicles_2 = pd.read_csv('vehicles_2.csv')\n",
        "\n",
        "vehicles_2.head()"
      ],
      "metadata": {
        "colab": {
          "base_uri": "https://localhost:8080/",
          "height": 206
        },
        "id": "Ff3EMDILdrFl",
        "outputId": "7dcb2d52-e357-49f2-cfea-18937dda73ea"
      },
      "execution_count": null,
      "outputs": [
        {
          "output_type": "execute_result",
          "data": {
            "text/plain": [
              "    sales        type  price  engine  horsepow  wheelbas  width  length  \\\n",
              "0  16.919  Automobile  21.50     1.8     140.0     101.2   67.3   172.4   \n",
              "1  39.384  Automobile  28.40     3.2     225.0     108.1   70.3   192.9   \n",
              "2  14.114  Automobile    NaN     3.2     225.0     106.9   70.6   192.0   \n",
              "3   8.588  Automobile  42.00     3.5     210.0     114.6   71.4   196.6   \n",
              "4  20.397  Automobile  23.99     1.8     150.0     102.6   68.2   178.0   \n",
              "\n",
              "   weight  fuelcap   mpg  \n",
              "0   2.639     13.2  28.0  \n",
              "1   3.517     17.2  25.0  \n",
              "2   3.470     17.2  26.0  \n",
              "3   3.850     18.0  22.0  \n",
              "4   2.998     16.4  27.0  "
            ],
            "text/html": [
              "\n",
              "  <div id=\"df-e79016f7-5162-4e2d-b5bb-9a9b687a0b6a\" class=\"colab-df-container\">\n",
              "    <div>\n",
              "<style scoped>\n",
              "    .dataframe tbody tr th:only-of-type {\n",
              "        vertical-align: middle;\n",
              "    }\n",
              "\n",
              "    .dataframe tbody tr th {\n",
              "        vertical-align: top;\n",
              "    }\n",
              "\n",
              "    .dataframe thead th {\n",
              "        text-align: right;\n",
              "    }\n",
              "</style>\n",
              "<table border=\"1\" class=\"dataframe\">\n",
              "  <thead>\n",
              "    <tr style=\"text-align: right;\">\n",
              "      <th></th>\n",
              "      <th>sales</th>\n",
              "      <th>type</th>\n",
              "      <th>price</th>\n",
              "      <th>engine</th>\n",
              "      <th>horsepow</th>\n",
              "      <th>wheelbas</th>\n",
              "      <th>width</th>\n",
              "      <th>length</th>\n",
              "      <th>weight</th>\n",
              "      <th>fuelcap</th>\n",
              "      <th>mpg</th>\n",
              "    </tr>\n",
              "  </thead>\n",
              "  <tbody>\n",
              "    <tr>\n",
              "      <th>0</th>\n",
              "      <td>16.919</td>\n",
              "      <td>Automobile</td>\n",
              "      <td>21.50</td>\n",
              "      <td>1.8</td>\n",
              "      <td>140.0</td>\n",
              "      <td>101.2</td>\n",
              "      <td>67.3</td>\n",
              "      <td>172.4</td>\n",
              "      <td>2.639</td>\n",
              "      <td>13.2</td>\n",
              "      <td>28.0</td>\n",
              "    </tr>\n",
              "    <tr>\n",
              "      <th>1</th>\n",
              "      <td>39.384</td>\n",
              "      <td>Automobile</td>\n",
              "      <td>28.40</td>\n",
              "      <td>3.2</td>\n",
              "      <td>225.0</td>\n",
              "      <td>108.1</td>\n",
              "      <td>70.3</td>\n",
              "      <td>192.9</td>\n",
              "      <td>3.517</td>\n",
              "      <td>17.2</td>\n",
              "      <td>25.0</td>\n",
              "    </tr>\n",
              "    <tr>\n",
              "      <th>2</th>\n",
              "      <td>14.114</td>\n",
              "      <td>Automobile</td>\n",
              "      <td>NaN</td>\n",
              "      <td>3.2</td>\n",
              "      <td>225.0</td>\n",
              "      <td>106.9</td>\n",
              "      <td>70.6</td>\n",
              "      <td>192.0</td>\n",
              "      <td>3.470</td>\n",
              "      <td>17.2</td>\n",
              "      <td>26.0</td>\n",
              "    </tr>\n",
              "    <tr>\n",
              "      <th>3</th>\n",
              "      <td>8.588</td>\n",
              "      <td>Automobile</td>\n",
              "      <td>42.00</td>\n",
              "      <td>3.5</td>\n",
              "      <td>210.0</td>\n",
              "      <td>114.6</td>\n",
              "      <td>71.4</td>\n",
              "      <td>196.6</td>\n",
              "      <td>3.850</td>\n",
              "      <td>18.0</td>\n",
              "      <td>22.0</td>\n",
              "    </tr>\n",
              "    <tr>\n",
              "      <th>4</th>\n",
              "      <td>20.397</td>\n",
              "      <td>Automobile</td>\n",
              "      <td>23.99</td>\n",
              "      <td>1.8</td>\n",
              "      <td>150.0</td>\n",
              "      <td>102.6</td>\n",
              "      <td>68.2</td>\n",
              "      <td>178.0</td>\n",
              "      <td>2.998</td>\n",
              "      <td>16.4</td>\n",
              "      <td>27.0</td>\n",
              "    </tr>\n",
              "  </tbody>\n",
              "</table>\n",
              "</div>\n",
              "    <div class=\"colab-df-buttons\">\n",
              "\n",
              "  <div class=\"colab-df-container\">\n",
              "    <button class=\"colab-df-convert\" onclick=\"convertToInteractive('df-e79016f7-5162-4e2d-b5bb-9a9b687a0b6a')\"\n",
              "            title=\"Convert this dataframe to an interactive table.\"\n",
              "            style=\"display:none;\">\n",
              "\n",
              "  <svg xmlns=\"http://www.w3.org/2000/svg\" height=\"24px\" viewBox=\"0 -960 960 960\">\n",
              "    <path d=\"M120-120v-720h720v720H120Zm60-500h600v-160H180v160Zm220 220h160v-160H400v160Zm0 220h160v-160H400v160ZM180-400h160v-160H180v160Zm440 0h160v-160H620v160ZM180-180h160v-160H180v160Zm440 0h160v-160H620v160Z\"/>\n",
              "  </svg>\n",
              "    </button>\n",
              "\n",
              "  <style>\n",
              "    .colab-df-container {\n",
              "      display:flex;\n",
              "      gap: 12px;\n",
              "    }\n",
              "\n",
              "    .colab-df-convert {\n",
              "      background-color: #E8F0FE;\n",
              "      border: none;\n",
              "      border-radius: 50%;\n",
              "      cursor: pointer;\n",
              "      display: none;\n",
              "      fill: #1967D2;\n",
              "      height: 32px;\n",
              "      padding: 0 0 0 0;\n",
              "      width: 32px;\n",
              "    }\n",
              "\n",
              "    .colab-df-convert:hover {\n",
              "      background-color: #E2EBFA;\n",
              "      box-shadow: 0px 1px 2px rgba(60, 64, 67, 0.3), 0px 1px 3px 1px rgba(60, 64, 67, 0.15);\n",
              "      fill: #174EA6;\n",
              "    }\n",
              "\n",
              "    .colab-df-buttons div {\n",
              "      margin-bottom: 4px;\n",
              "    }\n",
              "\n",
              "    [theme=dark] .colab-df-convert {\n",
              "      background-color: #3B4455;\n",
              "      fill: #D2E3FC;\n",
              "    }\n",
              "\n",
              "    [theme=dark] .colab-df-convert:hover {\n",
              "      background-color: #434B5C;\n",
              "      box-shadow: 0px 1px 3px 1px rgba(0, 0, 0, 0.15);\n",
              "      filter: drop-shadow(0px 1px 2px rgba(0, 0, 0, 0.3));\n",
              "      fill: #FFFFFF;\n",
              "    }\n",
              "  </style>\n",
              "\n",
              "    <script>\n",
              "      const buttonEl =\n",
              "        document.querySelector('#df-e79016f7-5162-4e2d-b5bb-9a9b687a0b6a button.colab-df-convert');\n",
              "      buttonEl.style.display =\n",
              "        google.colab.kernel.accessAllowed ? 'block' : 'none';\n",
              "\n",
              "      async function convertToInteractive(key) {\n",
              "        const element = document.querySelector('#df-e79016f7-5162-4e2d-b5bb-9a9b687a0b6a');\n",
              "        const dataTable =\n",
              "          await google.colab.kernel.invokeFunction('convertToInteractive',\n",
              "                                                    [key], {});\n",
              "        if (!dataTable) return;\n",
              "\n",
              "        const docLinkHtml = 'Like what you see? Visit the ' +\n",
              "          '<a target=\"_blank\" href=https://colab.research.google.com/notebooks/data_table.ipynb>data table notebook</a>'\n",
              "          + ' to learn more about interactive tables.';\n",
              "        element.innerHTML = '';\n",
              "        dataTable['output_type'] = 'display_data';\n",
              "        await google.colab.output.renderOutput(dataTable, element);\n",
              "        const docLink = document.createElement('div');\n",
              "        docLink.innerHTML = docLinkHtml;\n",
              "        element.appendChild(docLink);\n",
              "      }\n",
              "    </script>\n",
              "  </div>\n",
              "\n",
              "\n",
              "<div id=\"df-78a364bc-13bb-4104-b4ff-68775e5c77af\">\n",
              "  <button class=\"colab-df-quickchart\" onclick=\"quickchart('df-78a364bc-13bb-4104-b4ff-68775e5c77af')\"\n",
              "            title=\"Suggest charts\"\n",
              "            style=\"display:none;\">\n",
              "\n",
              "<svg xmlns=\"http://www.w3.org/2000/svg\" height=\"24px\"viewBox=\"0 0 24 24\"\n",
              "     width=\"24px\">\n",
              "    <g>\n",
              "        <path d=\"M19 3H5c-1.1 0-2 .9-2 2v14c0 1.1.9 2 2 2h14c1.1 0 2-.9 2-2V5c0-1.1-.9-2-2-2zM9 17H7v-7h2v7zm4 0h-2V7h2v10zm4 0h-2v-4h2v4z\"/>\n",
              "    </g>\n",
              "</svg>\n",
              "  </button>\n",
              "\n",
              "<style>\n",
              "  .colab-df-quickchart {\n",
              "      --bg-color: #E8F0FE;\n",
              "      --fill-color: #1967D2;\n",
              "      --hover-bg-color: #E2EBFA;\n",
              "      --hover-fill-color: #174EA6;\n",
              "      --disabled-fill-color: #AAA;\n",
              "      --disabled-bg-color: #DDD;\n",
              "  }\n",
              "\n",
              "  [theme=dark] .colab-df-quickchart {\n",
              "      --bg-color: #3B4455;\n",
              "      --fill-color: #D2E3FC;\n",
              "      --hover-bg-color: #434B5C;\n",
              "      --hover-fill-color: #FFFFFF;\n",
              "      --disabled-bg-color: #3B4455;\n",
              "      --disabled-fill-color: #666;\n",
              "  }\n",
              "\n",
              "  .colab-df-quickchart {\n",
              "    background-color: var(--bg-color);\n",
              "    border: none;\n",
              "    border-radius: 50%;\n",
              "    cursor: pointer;\n",
              "    display: none;\n",
              "    fill: var(--fill-color);\n",
              "    height: 32px;\n",
              "    padding: 0;\n",
              "    width: 32px;\n",
              "  }\n",
              "\n",
              "  .colab-df-quickchart:hover {\n",
              "    background-color: var(--hover-bg-color);\n",
              "    box-shadow: 0 1px 2px rgba(60, 64, 67, 0.3), 0 1px 3px 1px rgba(60, 64, 67, 0.15);\n",
              "    fill: var(--button-hover-fill-color);\n",
              "  }\n",
              "\n",
              "  .colab-df-quickchart-complete:disabled,\n",
              "  .colab-df-quickchart-complete:disabled:hover {\n",
              "    background-color: var(--disabled-bg-color);\n",
              "    fill: var(--disabled-fill-color);\n",
              "    box-shadow: none;\n",
              "  }\n",
              "\n",
              "  .colab-df-spinner {\n",
              "    border: 2px solid var(--fill-color);\n",
              "    border-color: transparent;\n",
              "    border-bottom-color: var(--fill-color);\n",
              "    animation:\n",
              "      spin 1s steps(1) infinite;\n",
              "  }\n",
              "\n",
              "  @keyframes spin {\n",
              "    0% {\n",
              "      border-color: transparent;\n",
              "      border-bottom-color: var(--fill-color);\n",
              "      border-left-color: var(--fill-color);\n",
              "    }\n",
              "    20% {\n",
              "      border-color: transparent;\n",
              "      border-left-color: var(--fill-color);\n",
              "      border-top-color: var(--fill-color);\n",
              "    }\n",
              "    30% {\n",
              "      border-color: transparent;\n",
              "      border-left-color: var(--fill-color);\n",
              "      border-top-color: var(--fill-color);\n",
              "      border-right-color: var(--fill-color);\n",
              "    }\n",
              "    40% {\n",
              "      border-color: transparent;\n",
              "      border-right-color: var(--fill-color);\n",
              "      border-top-color: var(--fill-color);\n",
              "    }\n",
              "    60% {\n",
              "      border-color: transparent;\n",
              "      border-right-color: var(--fill-color);\n",
              "    }\n",
              "    80% {\n",
              "      border-color: transparent;\n",
              "      border-right-color: var(--fill-color);\n",
              "      border-bottom-color: var(--fill-color);\n",
              "    }\n",
              "    90% {\n",
              "      border-color: transparent;\n",
              "      border-bottom-color: var(--fill-color);\n",
              "    }\n",
              "  }\n",
              "</style>\n",
              "\n",
              "  <script>\n",
              "    async function quickchart(key) {\n",
              "      const quickchartButtonEl =\n",
              "        document.querySelector('#' + key + ' button');\n",
              "      quickchartButtonEl.disabled = true;  // To prevent multiple clicks.\n",
              "      quickchartButtonEl.classList.add('colab-df-spinner');\n",
              "      try {\n",
              "        const charts = await google.colab.kernel.invokeFunction(\n",
              "            'suggestCharts', [key], {});\n",
              "      } catch (error) {\n",
              "        console.error('Error during call to suggestCharts:', error);\n",
              "      }\n",
              "      quickchartButtonEl.classList.remove('colab-df-spinner');\n",
              "      quickchartButtonEl.classList.add('colab-df-quickchart-complete');\n",
              "    }\n",
              "    (() => {\n",
              "      let quickchartButtonEl =\n",
              "        document.querySelector('#df-78a364bc-13bb-4104-b4ff-68775e5c77af button');\n",
              "      quickchartButtonEl.style.display =\n",
              "        google.colab.kernel.accessAllowed ? 'block' : 'none';\n",
              "    })();\n",
              "  </script>\n",
              "</div>\n",
              "\n",
              "    </div>\n",
              "  </div>\n"
            ],
            "application/vnd.google.colaboratory.intrinsic+json": {
              "type": "dataframe",
              "variable_name": "vehicles_2",
              "summary": "{\n  \"name\": \"vehicles_2\",\n  \"rows\": 157,\n  \"fields\": [\n    {\n      \"column\": \"sales\",\n      \"properties\": {\n        \"dtype\": \"number\",\n        \"std\": 68.02942199750512,\n        \"min\": 0.11,\n        \"max\": 540.561,\n        \"num_unique_values\": 157,\n        \"samples\": [\n          1.866,\n          181.749,\n          49.989\n        ],\n        \"semantic_type\": \"\",\n        \"description\": \"\"\n      }\n    },\n    {\n      \"column\": \"type\",\n      \"properties\": {\n        \"dtype\": \"category\",\n        \"num_unique_values\": 2,\n        \"samples\": [\n          \"Truck\",\n          \"Automobile\"\n        ],\n        \"semantic_type\": \"\",\n        \"description\": \"\"\n      }\n    },\n    {\n      \"column\": \"price\",\n      \"properties\": {\n        \"dtype\": \"number\",\n        \"std\": 13.702815283181208,\n        \"min\": 9.235,\n        \"max\": 85.5,\n        \"num_unique_values\": 150,\n        \"samples\": [\n          43.33,\n          13.26\n        ],\n        \"semantic_type\": \"\",\n        \"description\": \"\"\n      }\n    },\n    {\n      \"column\": \"engine\",\n      \"properties\": {\n        \"dtype\": \"number\",\n        \"std\": 1.0455033676365093,\n        \"min\": 1.0,\n        \"max\": 8.0,\n        \"num_unique_values\": 31,\n        \"samples\": [\n          4.3,\n          2.0\n        ],\n        \"semantic_type\": \"\",\n        \"description\": \"\"\n      }\n    },\n    {\n      \"column\": \"horsepow\",\n      \"properties\": {\n        \"dtype\": \"number\",\n        \"std\": 55.687985264205594,\n        \"min\": 55.0,\n        \"max\": 450.0,\n        \"num_unique_values\": 64,\n        \"samples\": [\n          217.0,\n          142.0\n        ],\n        \"semantic_type\": \"\",\n        \"description\": \"\"\n      }\n    },\n    {\n      \"column\": \"wheelbas\",\n      \"properties\": {\n        \"dtype\": \"number\",\n        \"std\": 7.608901955109713,\n        \"min\": 92.6,\n        \"max\": 138.7,\n        \"num_unique_values\": 86,\n        \"samples\": [\n          99.4,\n          101.2\n        ],\n        \"semantic_type\": \"\",\n        \"description\": \"\"\n      }\n    },\n    {\n      \"column\": \"width\",\n      \"properties\": {\n        \"dtype\": \"number\",\n        \"std\": 3.4151659275943014,\n        \"min\": 65.7,\n        \"max\": 79.9,\n        \"num_unique_values\": 76,\n        \"samples\": [\n          68.2,\n          73.0\n        ],\n        \"semantic_type\": \"\",\n        \"description\": \"\"\n      }\n    },\n    {\n      \"column\": \"length\",\n      \"properties\": {\n        \"dtype\": \"number\",\n        \"std\": 13.474976171542123,\n        \"min\": 149.4,\n        \"max\": 224.5,\n        \"num_unique_values\": 126,\n        \"samples\": [\n          180.3,\n          200.9\n        ],\n        \"semantic_type\": \"\",\n        \"description\": \"\"\n      }\n    },\n    {\n      \"column\": \"weight\",\n      \"properties\": {\n        \"dtype\": \"number\",\n        \"std\": 0.6298194272484067,\n        \"min\": 1.895,\n        \"max\": 5.572,\n        \"num_unique_values\": 140,\n        \"samples\": [\n          3.091,\n          3.693\n        ],\n        \"semantic_type\": \"\",\n        \"description\": \"\"\n      }\n    },\n    {\n      \"column\": \"fuelcap\",\n      \"properties\": {\n        \"dtype\": \"number\",\n        \"std\": 3.887418072583848,\n        \"min\": 10.3,\n        \"max\": 32.0,\n        \"num_unique_values\": 54,\n        \"samples\": [\n          26.0,\n          20.9\n        ],\n        \"semantic_type\": \"\",\n        \"description\": \"\"\n      }\n    },\n    {\n      \"column\": \"mpg\",\n      \"properties\": {\n        \"dtype\": \"number\",\n        \"std\": 4.282705561885176,\n        \"min\": 15.0,\n        \"max\": 45.0,\n        \"num_unique_values\": 20,\n        \"samples\": [\n          28.0,\n          32.0\n        ],\n        \"semantic_type\": \"\",\n        \"description\": \"\"\n      }\n    }\n  ]\n}"
            }
          },
          "metadata": {},
          "execution_count": 18
        }
      ]
    },
    {
      "cell_type": "markdown",
      "source": [
        "2. Check for any missing values in the dataset. If found, describe your approach to handling them."
      ],
      "metadata": {
        "id": "2JhhlNjydrXo"
      }
    },
    {
      "cell_type": "code",
      "source": [
        "missing_values_2 = vehicles_2.isnull().sum()\n",
        "\n",
        "print(missing_values_2)"
      ],
      "metadata": {
        "colab": {
          "base_uri": "https://localhost:8080/"
        },
        "id": "tudS_ER0dti9",
        "outputId": "f7f1e18c-5fa8-4c6b-f861-1790b6156a50"
      },
      "execution_count": null,
      "outputs": [
        {
          "output_type": "stream",
          "name": "stdout",
          "text": [
            "sales       0\n",
            "type        0\n",
            "price       4\n",
            "engine      5\n",
            "horsepow    4\n",
            "wheelbas    6\n",
            "width       5\n",
            "length      2\n",
            "weight      9\n",
            "fuelcap     2\n",
            "mpg         3\n",
            "dtype: int64\n"
          ]
        }
      ]
    },
    {
      "cell_type": "markdown",
      "source": [
        "There are no missing values in the 'sales' and 'type' columns, so I will handle any missing values in the numerical columns by imputing them with the mean. This is a widely used and effective approach for filling in gaps in data."
      ],
      "metadata": {
        "id": "UM-ECl6fdt2u"
      }
    },
    {
      "cell_type": "markdown",
      "source": [
        "**Descriptive Statistics:**"
      ],
      "metadata": {
        "id": "W6UilHJcduTn"
      }
    },
    {
      "cell_type": "markdown",
      "source": [
        "3. Use pandas to display a summary of each column in the dataset. Highlight any\n",
        "peculiarities you notice (e.g., missing values, unusual data ranges)."
      ],
      "metadata": {
        "id": "LLOrOUFidx88"
      }
    },
    {
      "cell_type": "code",
      "source": [
        "summary_stats_2 = vehicles_2.describe()\n",
        "\n",
        "print(summary_stats_2)"
      ],
      "metadata": {
        "colab": {
          "base_uri": "https://localhost:8080/"
        },
        "id": "u2M1EH4hd1x2",
        "outputId": "60d22863-35b4-4c4d-d1c6-0f9c2640dfb3"
      },
      "execution_count": null,
      "outputs": [
        {
          "output_type": "stream",
          "name": "stdout",
          "text": [
            "            sales       price      engine    horsepow    wheelbas       width  \\\n",
            "count  157.000000  153.000000  152.000000  153.000000  151.000000  152.000000   \n",
            "mean    52.998076   27.100863    3.055921  184.745098  107.596689   71.190789   \n",
            "std     68.029422   13.702815    1.045503   55.687985    7.608902    3.415166   \n",
            "min      0.110000    9.235000    1.000000   55.000000   92.600000   65.700000   \n",
            "25%     14.114000   18.145000    2.300000  148.000000  103.150000   68.400000   \n",
            "50%     29.450000   22.799000    3.000000  175.000000  107.000000   70.550000   \n",
            "75%     67.956000   31.930000    3.500000  215.000000  112.200000   73.450000   \n",
            "max    540.561000   85.500000    8.000000  450.000000  138.700000   79.900000   \n",
            "\n",
            "           length      weight     fuelcap         mpg  \n",
            "count  155.000000  148.000000  155.000000  154.000000  \n",
            "mean   187.350968    3.369338   17.977419   23.844156  \n",
            "std     13.474976    0.629819    3.887418    4.282706  \n",
            "min    149.400000    1.895000   10.300000   15.000000  \n",
            "25%    177.550000    2.970750   15.850000   21.000000  \n",
            "50%    188.000000    3.341000   17.200000   24.000000  \n",
            "75%    196.150000    3.763250   19.650000   26.000000  \n",
            "max    224.500000    5.572000   32.000000   45.000000  \n"
          ]
        }
      ]
    },
    {
      "cell_type": "markdown",
      "source": [
        "Missing values: Some columns have fewer entries than others, indicating missing data. For example, 'sales' has 157 entries, but 'weight' only has 148.\n",
        "Wide data ranges: There are large differences between the minimum and maximum values in some columns. For instance, 'sales' ranges from 0.11 to 540.56, and 'horsepower' ranges from 55 to 450.\n",
        "Outliers: Extremely high values in certain columns suggest potential outliers, such as 'sales' with a max of 540.56 and 'mpg' going up to 45.\n",
        "Different scales: Some variables like 'price' range from 9.23 to 85.5, while others like 'weight' are in the range of 1.89 to 5.57, indicating that the features are measured on very different scales."
      ],
      "metadata": {
        "id": "IK5zqyGdpG2h"
      }
    },
    {
      "cell_type": "markdown",
      "source": [
        "4. Plot histograms for price, engine,\n",
        "horsepower, wheelbase, and mpg. Are the distributions skewed? Comment on their shapes."
      ],
      "metadata": {
        "id": "26XvWG7md2BM"
      }
    },
    {
      "cell_type": "code",
      "source": [
        "plt.figure(figsize=(15, 10))\n",
        "\n",
        "plt.subplot(2, 3, 1)\n",
        "vehicles_2['price'].hist(bins=20, edgecolor='black')\n",
        "plt.title('Histogram of Price')\n",
        "plt.xlabel('Price')\n",
        "plt.ylabel('Frequency')\n",
        "\n",
        "plt.subplot(2, 3, 2)\n",
        "vehicles_2['engine'].hist(bins=20, edgecolor='black')\n",
        "plt.title('Histogram of Engine')\n",
        "plt.xlabel('Engine')\n",
        "plt.ylabel('Frequency')\n",
        "\n",
        "plt.subplot(2, 3, 3)\n",
        "vehicles_2['horsepow'].hist(bins=20, edgecolor='black')\n",
        "plt.title('Histogram of Horsepower')\n",
        "plt.xlabel('Horsepower')\n",
        "plt.ylabel('Frequency')\n",
        "\n",
        "plt.subplot(2, 3, 4)\n",
        "vehicles_2['wheelbas'].hist(bins=20, edgecolor='black')\n",
        "plt.title('Histogram of Wheelbase')\n",
        "plt.xlabel('Wheelbase')\n",
        "plt.ylabel('Frequency')\n",
        "\n",
        "plt.subplot(2, 3, 5)\n",
        "vehicles_2['mpg'].hist(bins=20, edgecolor='black')\n",
        "plt.title('Histogram of MPG')\n",
        "plt.xlabel('MPG')\n",
        "plt.ylabel('Frequency')\n",
        "\n",
        "plt.tight_layout()\n",
        "plt.show()"
      ],
      "metadata": {
        "colab": {
          "base_uri": "https://localhost:8080/",
          "height": 892
        },
        "id": "6Kg0QItXd5aQ",
        "outputId": "d5d802cd-a0da-4538-b9ab-98bb83e78a61"
      },
      "execution_count": null,
      "outputs": [
        {
          "output_type": "display_data",
          "data": {
            "text/plain": [
              "<Figure size 1500x1000 with 5 Axes>"
            ],
            "image/png": "[encoded data removed]"
          },
          "metadata": {}
        }
      ]
    },
    {
      "cell_type": "markdown",
      "source": [
        "- Price: Right-skewed, with most values between 10 and 40, but some outliers extending up to 85.\n",
        "- Engine: Right-skewed, with most values between 2 and 4, and a few outliers near 8.\n",
        "- Horsepower: Mostly right-skewed, with most values between 100 and 300, but one outlier at 450.\n",
        "- Wheelbase: Slightly right-skewed, most values around 100 to 120, with a few outliers near 140.\n",
        "- MPG: Right-skewed, with most values between 20 and 30, and a few outliers around 45."
      ],
      "metadata": {
        "id": "hgBGq-IWd50J"
      }
    },
    {
      "cell_type": "markdown",
      "source": [
        "**Data Preprocessing:**"
      ],
      "metadata": {
        "id": "5H6OPTLnd6S9"
      }
    },
    {
      "cell_type": "markdown",
      "source": [
        "5. Handle any missing data by either removing rows or imputing values."
      ],
      "metadata": {
        "id": "tczfzPTqd-Z8"
      }
    },
    {
      "cell_type": "code",
      "source": [
        "vehicles_2['price'] = vehicles_2['price'].fillna(vehicles_2['price'].mean())\n",
        "vehicles_2['engine'] = vehicles_2['engine'].fillna(vehicles_2['engine'].mean())\n",
        "vehicles_2['horsepow'] = vehicles_2['horsepow'].fillna(vehicles_2['horsepow'].mean())\n",
        "vehicles_2['wheelbas'] = vehicles_2['wheelbas'].fillna(vehicles_2['wheelbas'].mean())\n",
        "vehicles_2['width'] = vehicles_2['width'].fillna(vehicles_2['width'].mean())\n",
        "vehicles_2['length'] = vehicles_2['length'].fillna(vehicles_2['length'].mean())\n",
        "vehicles_2['weight'] = vehicles_2['weight'].fillna(vehicles_2['weight'].mean())\n",
        "vehicles_2['fuelcap'] = vehicles_2['fuelcap'].fillna(vehicles_2['fuelcap'].mean())\n",
        "vehicles_2['mpg'] = vehicles_2['mpg'].fillna(vehicles_2['mpg'].mean())\n",
        "\n",
        "print(vehicles_2.isnull().sum())"
      ],
      "metadata": {
        "colab": {
          "base_uri": "https://localhost:8080/"
        },
        "id": "Cc3JJlybeB7g",
        "outputId": "d820ca92-ae9d-4dfb-e09a-ab26fc1fe0c4"
      },
      "execution_count": null,
      "outputs": [
        {
          "output_type": "stream",
          "name": "stdout",
          "text": [
            "sales       0\n",
            "type        0\n",
            "price       0\n",
            "engine      0\n",
            "horsepow    0\n",
            "wheelbas    0\n",
            "width       0\n",
            "length      0\n",
            "weight      0\n",
            "fuelcap     0\n",
            "mpg         0\n",
            "dtype: int64\n"
          ]
        }
      ]
    },
    {
      "cell_type": "markdown",
      "source": [
        "6. Convert\n",
        "any categorical variables (e.g., type) into numerical representations using one-hot encoding or label\n",
        "encoding."
      ],
      "metadata": {
        "id": "6cdmyOzJeCYx"
      }
    },
    {
      "cell_type": "code",
      "source": [
        "vehicles_2_encoded = pd.get_dummies(vehicles_2, columns=['type'], drop_first=True).astype(int)\n",
        "\n",
        "vehicles_2_encoded.head()"
      ],
      "metadata": {
        "colab": {
          "base_uri": "https://localhost:8080/",
          "height": 206
        },
        "id": "Y5-cNBJjeFlF",
        "outputId": "6a50706d-0148-4c1a-dcbf-7e4aadfb84bd"
      },
      "execution_count": null,
      "outputs": [
        {
          "output_type": "execute_result",
          "data": {
            "text/plain": [
              "   sales  price  engine  horsepow  wheelbas  width  length  weight  fuelcap  \\\n",
              "0     16     21       1       140       101     67     172       2       13   \n",
              "1     39     28       3       225       108     70     192       3       17   \n",
              "2     14     27       3       225       106     70     192       3       17   \n",
              "3      8     42       3       210       114     71     196       3       18   \n",
              "4     20     23       1       150       102     68     178       2       16   \n",
              "\n",
              "   mpg  type_Truck  \n",
              "0   28           0  \n",
              "1   25           0  \n",
              "2   26           0  \n",
              "3   22           0  \n",
              "4   27           0  "
            ],
            "text/html": [
              "\n",
              "  <div id=\"df-1ec80f4d-a4ef-4a6f-9c13-7ee8b4d0ace3\" class=\"colab-df-container\">\n",
              "    <div>\n",
              "<style scoped>\n",
              "    .dataframe tbody tr th:only-of-type {\n",
              "        vertical-align: middle;\n",
              "    }\n",
              "\n",
              "    .dataframe tbody tr th {\n",
              "        vertical-align: top;\n",
              "    }\n",
              "\n",
              "    .dataframe thead th {\n",
              "        text-align: right;\n",
              "    }\n",
              "</style>\n",
              "<table border=\"1\" class=\"dataframe\">\n",
              "  <thead>\n",
              "    <tr style=\"text-align: right;\">\n",
              "      <th></th>\n",
              "      <th>sales</th>\n",
              "      <th>price</th>\n",
              "      <th>engine</th>\n",
              "      <th>horsepow</th>\n",
              "      <th>wheelbas</th>\n",
              "      <th>width</th>\n",
              "      <th>length</th>\n",
              "      <th>weight</th>\n",
              "      <th>fuelcap</th>\n",
              "      <th>mpg</th>\n",
              "      <th>type_Truck</th>\n",
              "    </tr>\n",
              "  </thead>\n",
              "  <tbody>\n",
              "    <tr>\n",
              "      <th>0</th>\n",
              "      <td>16</td>\n",
              "      <td>21</td>\n",
              "      <td>1</td>\n",
              "      <td>140</td>\n",
              "      <td>101</td>\n",
              "      <td>67</td>\n",
              "      <td>172</td>\n",
              "      <td>2</td>\n",
              "      <td>13</td>\n",
              "      <td>28</td>\n",
              "      <td>0</td>\n",
              "    </tr>\n",
              "    <tr>\n",
              "      <th>1</th>\n",
              "      <td>39</td>\n",
              "      <td>28</td>\n",
              "      <td>3</td>\n",
              "      <td>225</td>\n",
              "      <td>108</td>\n",
              "      <td>70</td>\n",
              "      <td>192</td>\n",
              "      <td>3</td>\n",
              "      <td>17</td>\n",
              "      <td>25</td>\n",
              "      <td>0</td>\n",
              "    </tr>\n",
              "    <tr>\n",
              "      <th>2</th>\n",
              "      <td>14</td>\n",
              "      <td>27</td>\n",
              "      <td>3</td>\n",
              "      <td>225</td>\n",
              "      <td>106</td>\n",
              "      <td>70</td>\n",
              "      <td>192</td>\n",
              "      <td>3</td>\n",
              "      <td>17</td>\n",
              "      <td>26</td>\n",
              "      <td>0</td>\n",
              "    </tr>\n",
              "    <tr>\n",
              "      <th>3</th>\n",
              "      <td>8</td>\n",
              "      <td>42</td>\n",
              "      <td>3</td>\n",
              "      <td>210</td>\n",
              "      <td>114</td>\n",
              "      <td>71</td>\n",
              "      <td>196</td>\n",
              "      <td>3</td>\n",
              "      <td>18</td>\n",
              "      <td>22</td>\n",
              "      <td>0</td>\n",
              "    </tr>\n",
              "    <tr>\n",
              "      <th>4</th>\n",
              "      <td>20</td>\n",
              "      <td>23</td>\n",
              "      <td>1</td>\n",
              "      <td>150</td>\n",
              "      <td>102</td>\n",
              "      <td>68</td>\n",
              "      <td>178</td>\n",
              "      <td>2</td>\n",
              "      <td>16</td>\n",
              "      <td>27</td>\n",
              "      <td>0</td>\n",
              "    </tr>\n",
              "  </tbody>\n",
              "</table>\n",
              "</div>\n",
              "    <div class=\"colab-df-buttons\">\n",
              "\n",
              "  <div class=\"colab-df-container\">\n",
              "    <button class=\"colab-df-convert\" onclick=\"convertToInteractive('df-1ec80f4d-a4ef-4a6f-9c13-7ee8b4d0ace3')\"\n",
              "            title=\"Convert this dataframe to an interactive table.\"\n",
              "            style=\"display:none;\">\n",
              "\n",
              "  <svg xmlns=\"http://www.w3.org/2000/svg\" height=\"24px\" viewBox=\"0 -960 960 960\">\n",
              "    <path d=\"M120-120v-720h720v720H120Zm60-500h600v-160H180v160Zm220 220h160v-160H400v160Zm0 220h160v-160H400v160ZM180-400h160v-160H180v160Zm440 0h160v-160H620v160ZM180-180h160v-160H180v160Zm440 0h160v-160H620v160Z\"/>\n",
              "  </svg>\n",
              "    </button>\n",
              "\n",
              "  <style>\n",
              "    .colab-df-container {\n",
              "      display:flex;\n",
              "      gap: 12px;\n",
              "    }\n",
              "\n",
              "    .colab-df-convert {\n",
              "      background-color: #E8F0FE;\n",
              "      border: none;\n",
              "      border-radius: 50%;\n",
              "      cursor: pointer;\n",
              "      display: none;\n",
              "      fill: #1967D2;\n",
              "      height: 32px;\n",
              "      padding: 0 0 0 0;\n",
              "      width: 32px;\n",
              "    }\n",
              "\n",
              "    .colab-df-convert:hover {\n",
              "      background-color: #E2EBFA;\n",
              "      box-shadow: 0px 1px 2px rgba(60, 64, 67, 0.3), 0px 1px 3px 1px rgba(60, 64, 67, 0.15);\n",
              "      fill: #174EA6;\n",
              "    }\n",
              "\n",
              "    .colab-df-buttons div {\n",
              "      margin-bottom: 4px;\n",
              "    }\n",
              "\n",
              "    [theme=dark] .colab-df-convert {\n",
              "      background-color: #3B4455;\n",
              "      fill: #D2E3FC;\n",
              "    }\n",
              "\n",
              "    [theme=dark] .colab-df-convert:hover {\n",
              "      background-color: #434B5C;\n",
              "      box-shadow: 0px 1px 3px 1px rgba(0, 0, 0, 0.15);\n",
              "      filter: drop-shadow(0px 1px 2px rgba(0, 0, 0, 0.3));\n",
              "      fill: #FFFFFF;\n",
              "    }\n",
              "  </style>\n",
              "\n",
              "    <script>\n",
              "      const buttonEl =\n",
              "        document.querySelector('#df-1ec80f4d-a4ef-4a6f-9c13-7ee8b4d0ace3 button.colab-df-convert');\n",
              "      buttonEl.style.display =\n",
              "        google.colab.kernel.accessAllowed ? 'block' : 'none';\n",
              "\n",
              "      async function convertToInteractive(key) {\n",
              "        const element = document.querySelector('#df-1ec80f4d-a4ef-4a6f-9c13-7ee8b4d0ace3');\n",
              "        const dataTable =\n",
              "          await google.colab.kernel.invokeFunction('convertToInteractive',\n",
              "                                                    [key], {});\n",
              "        if (!dataTable) return;\n",
              "\n",
              "        const docLinkHtml = 'Like what you see? Visit the ' +\n",
              "          '<a target=\"_blank\" href=https://colab.research.google.com/notebooks/data_table.ipynb>data table notebook</a>'\n",
              "          + ' to learn more about interactive tables.';\n",
              "        element.innerHTML = '';\n",
              "        dataTable['output_type'] = 'display_data';\n",
              "        await google.colab.output.renderOutput(dataTable, element);\n",
              "        const docLink = document.createElement('div');\n",
              "        docLink.innerHTML = docLinkHtml;\n",
              "        element.appendChild(docLink);\n",
              "      }\n",
              "    </script>\n",
              "  </div>\n",
              "\n",
              "\n",
              "<div id=\"df-d3540040-e46d-474d-9174-9764f01c5ffc\">\n",
              "  <button class=\"colab-df-quickchart\" onclick=\"quickchart('df-d3540040-e46d-474d-9174-9764f01c5ffc')\"\n",
              "            title=\"Suggest charts\"\n",
              "            style=\"display:none;\">\n",
              "\n",
              "<svg xmlns=\"http://www.w3.org/2000/svg\" height=\"24px\"viewBox=\"0 0 24 24\"\n",
              "     width=\"24px\">\n",
              "    <g>\n",
              "        <path d=\"M19 3H5c-1.1 0-2 .9-2 2v14c0 1.1.9 2 2 2h14c1.1 0 2-.9 2-2V5c0-1.1-.9-2-2-2zM9 17H7v-7h2v7zm4 0h-2V7h2v10zm4 0h-2v-4h2v4z\"/>\n",
              "    </g>\n",
              "</svg>\n",
              "  </button>\n",
              "\n",
              "<style>\n",
              "  .colab-df-quickchart {\n",
              "      --bg-color: #E8F0FE;\n",
              "      --fill-color: #1967D2;\n",
              "      --hover-bg-color: #E2EBFA;\n",
              "      --hover-fill-color: #174EA6;\n",
              "      --disabled-fill-color: #AAA;\n",
              "      --disabled-bg-color: #DDD;\n",
              "  }\n",
              "\n",
              "  [theme=dark] .colab-df-quickchart {\n",
              "      --bg-color: #3B4455;\n",
              "      --fill-color: #D2E3FC;\n",
              "      --hover-bg-color: #434B5C;\n",
              "      --hover-fill-color: #FFFFFF;\n",
              "      --disabled-bg-color: #3B4455;\n",
              "      --disabled-fill-color: #666;\n",
              "  }\n",
              "\n",
              "  .colab-df-quickchart {\n",
              "    background-color: var(--bg-color);\n",
              "    border: none;\n",
              "    border-radius: 50%;\n",
              "    cursor: pointer;\n",
              "    display: none;\n",
              "    fill: var(--fill-color);\n",
              "    height: 32px;\n",
              "    padding: 0;\n",
              "    width: 32px;\n",
              "  }\n",
              "\n",
              "  .colab-df-quickchart:hover {\n",
              "    background-color: var(--hover-bg-color);\n",
              "    box-shadow: 0 1px 2px rgba(60, 64, 67, 0.3), 0 1px 3px 1px rgba(60, 64, 67, 0.15);\n",
              "    fill: var(--button-hover-fill-color);\n",
              "  }\n",
              "\n",
              "  .colab-df-quickchart-complete:disabled,\n",
              "  .colab-df-quickchart-complete:disabled:hover {\n",
              "    background-color: var(--disabled-bg-color);\n",
              "    fill: var(--disabled-fill-color);\n",
              "    box-shadow: none;\n",
              "  }\n",
              "\n",
              "  .colab-df-spinner {\n",
              "    border: 2px solid var(--fill-color);\n",
              "    border-color: transparent;\n",
              "    border-bottom-color: var(--fill-color);\n",
              "    animation:\n",
              "      spin 1s steps(1) infinite;\n",
              "  }\n",
              "\n",
              "  @keyframes spin {\n",
              "    0% {\n",
              "      border-color: transparent;\n",
              "      border-bottom-color: var(--fill-color);\n",
              "      border-left-color: var(--fill-color);\n",
              "    }\n",
              "    20% {\n",
              "      border-color: transparent;\n",
              "      border-left-color: var(--fill-color);\n",
              "      border-top-color: var(--fill-color);\n",
              "    }\n",
              "    30% {\n",
              "      border-color: transparent;\n",
              "      border-left-color: var(--fill-color);\n",
              "      border-top-color: var(--fill-color);\n",
              "      border-right-color: var(--fill-color);\n",
              "    }\n",
              "    40% {\n",
              "      border-color: transparent;\n",
              "      border-right-color: var(--fill-color);\n",
              "      border-top-color: var(--fill-color);\n",
              "    }\n",
              "    60% {\n",
              "      border-color: transparent;\n",
              "      border-right-color: var(--fill-color);\n",
              "    }\n",
              "    80% {\n",
              "      border-color: transparent;\n",
              "      border-right-color: var(--fill-color);\n",
              "      border-bottom-color: var(--fill-color);\n",
              "    }\n",
              "    90% {\n",
              "      border-color: transparent;\n",
              "      border-bottom-color: var(--fill-color);\n",
              "    }\n",
              "  }\n",
              "</style>\n",
              "\n",
              "  <script>\n",
              "    async function quickchart(key) {\n",
              "      const quickchartButtonEl =\n",
              "        document.querySelector('#' + key + ' button');\n",
              "      quickchartButtonEl.disabled = true;  // To prevent multiple clicks.\n",
              "      quickchartButtonEl.classList.add('colab-df-spinner');\n",
              "      try {\n",
              "        const charts = await google.colab.kernel.invokeFunction(\n",
              "            'suggestCharts', [key], {});\n",
              "      } catch (error) {\n",
              "        console.error('Error during call to suggestCharts:', error);\n",
              "      }\n",
              "      quickchartButtonEl.classList.remove('colab-df-spinner');\n",
              "      quickchartButtonEl.classList.add('colab-df-quickchart-complete');\n",
              "    }\n",
              "    (() => {\n",
              "      let quickchartButtonEl =\n",
              "        document.querySelector('#df-d3540040-e46d-474d-9174-9764f01c5ffc button');\n",
              "      quickchartButtonEl.style.display =\n",
              "        google.colab.kernel.accessAllowed ? 'block' : 'none';\n",
              "    })();\n",
              "  </script>\n",
              "</div>\n",
              "\n",
              "    </div>\n",
              "  </div>\n"
            ],
            "application/vnd.google.colaboratory.intrinsic+json": {
              "type": "dataframe",
              "variable_name": "vehicles_2_encoded",
              "summary": "{\n  \"name\": \"vehicles_2_encoded\",\n  \"rows\": 157,\n  \"fields\": [\n    {\n      \"column\": \"sales\",\n      \"properties\": {\n        \"dtype\": \"number\",\n        \"std\": 68,\n        \"min\": 0,\n        \"max\": 540,\n        \"num_unique_values\": 82,\n        \"samples\": [\n          76,\n          16,\n          32\n        ],\n        \"semantic_type\": \"\",\n        \"description\": \"\"\n      }\n    },\n    {\n      \"column\": \"price\",\n      \"properties\": {\n        \"dtype\": \"number\",\n        \"std\": 13,\n        \"min\": 9,\n        \"max\": 85,\n        \"num_unique_values\": 44,\n        \"samples\": [\n          41,\n          20,\n          69\n        ],\n        \"semantic_type\": \"\",\n        \"description\": \"\"\n      }\n    },\n    {\n      \"column\": \"engine\",\n      \"properties\": {\n        \"dtype\": \"number\",\n        \"std\": 1,\n        \"min\": 1,\n        \"max\": 8,\n        \"num_unique_values\": 6,\n        \"samples\": [\n          1,\n          3,\n          8\n        ],\n        \"semantic_type\": \"\",\n        \"description\": \"\"\n      }\n    },\n    {\n      \"column\": \"horsepow\",\n      \"properties\": {\n        \"dtype\": \"number\",\n        \"std\": 54,\n        \"min\": 55,\n        \"max\": 450,\n        \"num_unique_values\": 65,\n        \"samples\": [\n          217,\n          194,\n          140\n        ],\n        \"semantic_type\": \"\",\n        \"description\": \"\"\n      }\n    },\n    {\n      \"column\": \"wheelbas\",\n      \"properties\": {\n        \"dtype\": \"number\",\n        \"std\": 7,\n        \"min\": 92,\n        \"max\": 138,\n        \"num_unique_values\": 32,\n        \"samples\": [\n          94,\n          93,\n          119\n        ],\n        \"semantic_type\": \"\",\n        \"description\": \"\"\n      }\n    },\n    {\n      \"column\": \"width\",\n      \"properties\": {\n        \"dtype\": \"number\",\n        \"std\": 3,\n        \"min\": 65,\n        \"max\": 79,\n        \"num_unique_values\": 15,\n        \"samples\": [\n          69,\n          66,\n          67\n        ],\n        \"semantic_type\": \"\",\n        \"description\": \"\"\n      }\n    },\n    {\n      \"column\": \"length\",\n      \"properties\": {\n        \"dtype\": \"number\",\n        \"std\": 13,\n        \"min\": 149,\n        \"max\": 224,\n        \"num_unique_values\": 52,\n        \"samples\": [\n          209,\n          157,\n          171\n        ],\n        \"semantic_type\": \"\",\n        \"description\": \"\"\n      }\n    },\n    {\n      \"column\": \"weight\",\n      \"properties\": {\n        \"dtype\": \"number\",\n        \"std\": 0,\n        \"min\": 1,\n        \"max\": 5,\n        \"num_unique_values\": 5,\n        \"samples\": [\n          3,\n          4,\n          5\n        ],\n        \"semantic_type\": \"\",\n        \"description\": \"\"\n      }\n    },\n    {\n      \"column\": \"fuelcap\",\n      \"properties\": {\n        \"dtype\": \"number\",\n        \"std\": 3,\n        \"min\": 10,\n        \"max\": 32,\n        \"num_unique_values\": 19,\n        \"samples\": [\n          13,\n          19,\n          26\n        ],\n        \"semantic_type\": \"\",\n        \"description\": \"\"\n      }\n    },\n    {\n      \"column\": \"mpg\",\n      \"properties\": {\n        \"dtype\": \"number\",\n        \"std\": 4,\n        \"min\": 15,\n        \"max\": 45,\n        \"num_unique_values\": 20,\n        \"samples\": [\n          28,\n          32,\n          30\n        ],\n        \"semantic_type\": \"\",\n        \"description\": \"\"\n      }\n    },\n    {\n      \"column\": \"type_Truck\",\n      \"properties\": {\n        \"dtype\": \"number\",\n        \"std\": 0,\n        \"min\": 0,\n        \"max\": 1,\n        \"num_unique_values\": 2,\n        \"samples\": [\n          1,\n          0\n        ],\n        \"semantic_type\": \"\",\n        \"description\": \"\"\n      }\n    }\n  ]\n}"
            }
          },
          "metadata": {},
          "execution_count": 25
        }
      ]
    },
    {
      "cell_type": "markdown",
      "source": [
        "7. Standardize the numeric columns (price, engine, horsepower, etc.) by scaling them to have a\n",
        "mean of 0 and a standard deviation of 1."
      ],
      "metadata": {
        "id": "osXr3pbZeHf6"
      }
    },
    {
      "cell_type": "code",
      "source": [
        "numeric_columns = ['price', 'engine', 'horsepow', 'wheelbas', 'width', 'length', 'weight', 'fuelcap', 'mpg']\n",
        "\n",
        "scaler = StandardScaler()\n",
        "\n",
        "vehicles_2_encoded[numeric_columns] = scaler.fit_transform(vehicles_2_encoded[numeric_columns])\n",
        "\n",
        "vehicles_2_encoded.head()"
      ],
      "metadata": {
        "colab": {
          "base_uri": "https://localhost:8080/",
          "height": 206
        },
        "id": "R1Kj1ZZceJ05",
        "outputId": "93c21ae9-77df-42a9-846a-1793b72ada97"
      },
      "execution_count": null,
      "outputs": [
        {
          "output_type": "execute_result",
          "data": {
            "text/plain": [
              "   sales     price    engine  horsepow  wheelbas     width    length  \\\n",
              "0     16 -0.415045 -1.594215 -0.816257 -0.836312 -1.113145 -1.119081   \n",
              "1     39  0.103290  0.287678  0.735003  0.102510 -0.223007  0.380029   \n",
              "2     14  0.029242  0.287678  0.735003 -0.165725 -0.223007  0.380029   \n",
              "3      8  1.139960  0.287678  0.461251  0.907215  0.073706  0.679852   \n",
              "4     20 -0.266950 -1.594215 -0.633755 -0.702195 -0.816432 -0.669348   \n",
              "\n",
              "     weight   fuelcap       mpg  type_Truck  \n",
              "0 -1.281607 -1.186538  0.986428           0  \n",
              "1  0.219977 -0.169968  0.277103           0  \n",
              "2  0.219977 -0.169968  0.513545           0  \n",
              "3  0.219977  0.084175 -0.432221           0  \n",
              "4 -1.281607 -0.424110  0.749986           0  "
            ],
            "text/html": [
              "\n",
              "  <div id=\"df-885b76c3-e5eb-41d9-af57-03c31c175087\" class=\"colab-df-container\">\n",
              "    <div>\n",
              "<style scoped>\n",
              "    .dataframe tbody tr th:only-of-type {\n",
              "        vertical-align: middle;\n",
              "    }\n",
              "\n",
              "    .dataframe tbody tr th {\n",
              "        vertical-align: top;\n",
              "    }\n",
              "\n",
              "    .dataframe thead th {\n",
              "        text-align: right;\n",
              "    }\n",
              "</style>\n",
              "<table border=\"1\" class=\"dataframe\">\n",
              "  <thead>\n",
              "    <tr style=\"text-align: right;\">\n",
              "      <th></th>\n",
              "      <th>sales</th>\n",
              "      <th>price</th>\n",
              "      <th>engine</th>\n",
              "      <th>horsepow</th>\n",
              "      <th>wheelbas</th>\n",
              "      <th>width</th>\n",
              "      <th>length</th>\n",
              "      <th>weight</th>\n",
              "      <th>fuelcap</th>\n",
              "      <th>mpg</th>\n",
              "      <th>type_Truck</th>\n",
              "    </tr>\n",
              "  </thead>\n",
              "  <tbody>\n",
              "    <tr>\n",
              "      <th>0</th>\n",
              "      <td>16</td>\n",
              "      <td>-0.415045</td>\n",
              "      <td>-1.594215</td>\n",
              "      <td>-0.816257</td>\n",
              "      <td>-0.836312</td>\n",
              "      <td>-1.113145</td>\n",
              "      <td>-1.119081</td>\n",
              "      <td>-1.281607</td>\n",
              "      <td>-1.186538</td>\n",
              "      <td>0.986428</td>\n",
              "      <td>0</td>\n",
              "    </tr>\n",
              "    <tr>\n",
              "      <th>1</th>\n",
              "      <td>39</td>\n",
              "      <td>0.103290</td>\n",
              "      <td>0.287678</td>\n",
              "      <td>0.735003</td>\n",
              "      <td>0.102510</td>\n",
              "      <td>-0.223007</td>\n",
              "      <td>0.380029</td>\n",
              "      <td>0.219977</td>\n",
              "      <td>-0.169968</td>\n",
              "      <td>0.277103</td>\n",
              "      <td>0</td>\n",
              "    </tr>\n",
              "    <tr>\n",
              "      <th>2</th>\n",
              "      <td>14</td>\n",
              "      <td>0.029242</td>\n",
              "      <td>0.287678</td>\n",
              "      <td>0.735003</td>\n",
              "      <td>-0.165725</td>\n",
              "      <td>-0.223007</td>\n",
              "      <td>0.380029</td>\n",
              "      <td>0.219977</td>\n",
              "      <td>-0.169968</td>\n",
              "      <td>0.513545</td>\n",
              "      <td>0</td>\n",
              "    </tr>\n",
              "    <tr>\n",
              "      <th>3</th>\n",
              "      <td>8</td>\n",
              "      <td>1.139960</td>\n",
              "      <td>0.287678</td>\n",
              "      <td>0.461251</td>\n",
              "      <td>0.907215</td>\n",
              "      <td>0.073706</td>\n",
              "      <td>0.679852</td>\n",
              "      <td>0.219977</td>\n",
              "      <td>0.084175</td>\n",
              "      <td>-0.432221</td>\n",
              "      <td>0</td>\n",
              "    </tr>\n",
              "    <tr>\n",
              "      <th>4</th>\n",
              "      <td>20</td>\n",
              "      <td>-0.266950</td>\n",
              "      <td>-1.594215</td>\n",
              "      <td>-0.633755</td>\n",
              "      <td>-0.702195</td>\n",
              "      <td>-0.816432</td>\n",
              "      <td>-0.669348</td>\n",
              "      <td>-1.281607</td>\n",
              "      <td>-0.424110</td>\n",
              "      <td>0.749986</td>\n",
              "      <td>0</td>\n",
              "    </tr>\n",
              "  </tbody>\n",
              "</table>\n",
              "</div>\n",
              "    <div class=\"colab-df-buttons\">\n",
              "\n",
              "  <div class=\"colab-df-container\">\n",
              "    <button class=\"colab-df-convert\" onclick=\"convertToInteractive('df-885b76c3-e5eb-41d9-af57-03c31c175087')\"\n",
              "            title=\"Convert this dataframe to an interactive table.\"\n",
              "            style=\"display:none;\">\n",
              "\n",
              "  <svg xmlns=\"http://www.w3.org/2000/svg\" height=\"24px\" viewBox=\"0 -960 960 960\">\n",
              "    <path d=\"M120-120v-720h720v720H120Zm60-500h600v-160H180v160Zm220 220h160v-160H400v160Zm0 220h160v-160H400v160ZM180-400h160v-160H180v160Zm440 0h160v-160H620v160ZM180-180h160v-160H180v160Zm440 0h160v-160H620v160Z\"/>\n",
              "  </svg>\n",
              "    </button>\n",
              "\n",
              "  <style>\n",
              "    .colab-df-container {\n",
              "      display:flex;\n",
              "      gap: 12px;\n",
              "    }\n",
              "\n",
              "    .colab-df-convert {\n",
              "      background-color: #E8F0FE;\n",
              "      border: none;\n",
              "      border-radius: 50%;\n",
              "      cursor: pointer;\n",
              "      display: none;\n",
              "      fill: #1967D2;\n",
              "      height: 32px;\n",
              "      padding: 0 0 0 0;\n",
              "      width: 32px;\n",
              "    }\n",
              "\n",
              "    .colab-df-convert:hover {\n",
              "      background-color: #E2EBFA;\n",
              "      box-shadow: 0px 1px 2px rgba(60, 64, 67, 0.3), 0px 1px 3px 1px rgba(60, 64, 67, 0.15);\n",
              "      fill: #174EA6;\n",
              "    }\n",
              "\n",
              "    .colab-df-buttons div {\n",
              "      margin-bottom: 4px;\n",
              "    }\n",
              "\n",
              "    [theme=dark] .colab-df-convert {\n",
              "      background-color: #3B4455;\n",
              "      fill: #D2E3FC;\n",
              "    }\n",
              "\n",
              "    [theme=dark] .colab-df-convert:hover {\n",
              "      background-color: #434B5C;\n",
              "      box-shadow: 0px 1px 3px 1px rgba(0, 0, 0, 0.15);\n",
              "      filter: drop-shadow(0px 1px 2px rgba(0, 0, 0, 0.3));\n",
              "      fill: #FFFFFF;\n",
              "    }\n",
              "  </style>\n",
              "\n",
              "    <script>\n",
              "      const buttonEl =\n",
              "        document.querySelector('#df-885b76c3-e5eb-41d9-af57-03c31c175087 button.colab-df-convert');\n",
              "      buttonEl.style.display =\n",
              "        google.colab.kernel.accessAllowed ? 'block' : 'none';\n",
              "\n",
              "      async function convertToInteractive(key) {\n",
              "        const element = document.querySelector('#df-885b76c3-e5eb-41d9-af57-03c31c175087');\n",
              "        const dataTable =\n",
              "          await google.colab.kernel.invokeFunction('convertToInteractive',\n",
              "                                                    [key], {});\n",
              "        if (!dataTable) return;\n",
              "\n",
              "        const docLinkHtml = 'Like what you see? Visit the ' +\n",
              "          '<a target=\"_blank\" href=https://colab.research.google.com/notebooks/data_table.ipynb>data table notebook</a>'\n",
              "          + ' to learn more about interactive tables.';\n",
              "        element.innerHTML = '';\n",
              "        dataTable['output_type'] = 'display_data';\n",
              "        await google.colab.output.renderOutput(dataTable, element);\n",
              "        const docLink = document.createElement('div');\n",
              "        docLink.innerHTML = docLinkHtml;\n",
              "        element.appendChild(docLink);\n",
              "      }\n",
              "    </script>\n",
              "  </div>\n",
              "\n",
              "\n",
              "<div id=\"df-904d10e3-fdfe-4708-bb0f-801a491b03ef\">\n",
              "  <button class=\"colab-df-quickchart\" onclick=\"quickchart('df-904d10e3-fdfe-4708-bb0f-801a491b03ef')\"\n",
              "            title=\"Suggest charts\"\n",
              "            style=\"display:none;\">\n",
              "\n",
              "<svg xmlns=\"http://www.w3.org/2000/svg\" height=\"24px\"viewBox=\"0 0 24 24\"\n",
              "     width=\"24px\">\n",
              "    <g>\n",
              "        <path d=\"M19 3H5c-1.1 0-2 .9-2 2v14c0 1.1.9 2 2 2h14c1.1 0 2-.9 2-2V5c0-1.1-.9-2-2-2zM9 17H7v-7h2v7zm4 0h-2V7h2v10zm4 0h-2v-4h2v4z\"/>\n",
              "    </g>\n",
              "</svg>\n",
              "  </button>\n",
              "\n",
              "<style>\n",
              "  .colab-df-quickchart {\n",
              "      --bg-color: #E8F0FE;\n",
              "      --fill-color: #1967D2;\n",
              "      --hover-bg-color: #E2EBFA;\n",
              "      --hover-fill-color: #174EA6;\n",
              "      --disabled-fill-color: #AAA;\n",
              "      --disabled-bg-color: #DDD;\n",
              "  }\n",
              "\n",
              "  [theme=dark] .colab-df-quickchart {\n",
              "      --bg-color: #3B4455;\n",
              "      --fill-color: #D2E3FC;\n",
              "      --hover-bg-color: #434B5C;\n",
              "      --hover-fill-color: #FFFFFF;\n",
              "      --disabled-bg-color: #3B4455;\n",
              "      --disabled-fill-color: #666;\n",
              "  }\n",
              "\n",
              "  .colab-df-quickchart {\n",
              "    background-color: var(--bg-color);\n",
              "    border: none;\n",
              "    border-radius: 50%;\n",
              "    cursor: pointer;\n",
              "    display: none;\n",
              "    fill: var(--fill-color);\n",
              "    height: 32px;\n",
              "    padding: 0;\n",
              "    width: 32px;\n",
              "  }\n",
              "\n",
              "  .colab-df-quickchart:hover {\n",
              "    background-color: var(--hover-bg-color);\n",
              "    box-shadow: 0 1px 2px rgba(60, 64, 67, 0.3), 0 1px 3px 1px rgba(60, 64, 67, 0.15);\n",
              "    fill: var(--button-hover-fill-color);\n",
              "  }\n",
              "\n",
              "  .colab-df-quickchart-complete:disabled,\n",
              "  .colab-df-quickchart-complete:disabled:hover {\n",
              "    background-color: var(--disabled-bg-color);\n",
              "    fill: var(--disabled-fill-color);\n",
              "    box-shadow: none;\n",
              "  }\n",
              "\n",
              "  .colab-df-spinner {\n",
              "    border: 2px solid var(--fill-color);\n",
              "    border-color: transparent;\n",
              "    border-bottom-color: var(--fill-color);\n",
              "    animation:\n",
              "      spin 1s steps(1) infinite;\n",
              "  }\n",
              "\n",
              "  @keyframes spin {\n",
              "    0% {\n",
              "      border-color: transparent;\n",
              "      border-bottom-color: var(--fill-color);\n",
              "      border-left-color: var(--fill-color);\n",
              "    }\n",
              "    20% {\n",
              "      border-color: transparent;\n",
              "      border-left-color: var(--fill-color);\n",
              "      border-top-color: var(--fill-color);\n",
              "    }\n",
              "    30% {\n",
              "      border-color: transparent;\n",
              "      border-left-color: var(--fill-color);\n",
              "      border-top-color: var(--fill-color);\n",
              "      border-right-color: var(--fill-color);\n",
              "    }\n",
              "    40% {\n",
              "      border-color: transparent;\n",
              "      border-right-color: var(--fill-color);\n",
              "      border-top-color: var(--fill-color);\n",
              "    }\n",
              "    60% {\n",
              "      border-color: transparent;\n",
              "      border-right-color: var(--fill-color);\n",
              "    }\n",
              "    80% {\n",
              "      border-color: transparent;\n",
              "      border-right-color: var(--fill-color);\n",
              "      border-bottom-color: var(--fill-color);\n",
              "    }\n",
              "    90% {\n",
              "      border-color: transparent;\n",
              "      border-bottom-color: var(--fill-color);\n",
              "    }\n",
              "  }\n",
              "</style>\n",
              "\n",
              "  <script>\n",
              "    async function quickchart(key) {\n",
              "      const quickchartButtonEl =\n",
              "        document.querySelector('#' + key + ' button');\n",
              "      quickchartButtonEl.disabled = true;  // To prevent multiple clicks.\n",
              "      quickchartButtonEl.classList.add('colab-df-spinner');\n",
              "      try {\n",
              "        const charts = await google.colab.kernel.invokeFunction(\n",
              "            'suggestCharts', [key], {});\n",
              "      } catch (error) {\n",
              "        console.error('Error during call to suggestCharts:', error);\n",
              "      }\n",
              "      quickchartButtonEl.classList.remove('colab-df-spinner');\n",
              "      quickchartButtonEl.classList.add('colab-df-quickchart-complete');\n",
              "    }\n",
              "    (() => {\n",
              "      let quickchartButtonEl =\n",
              "        document.querySelector('#df-904d10e3-fdfe-4708-bb0f-801a491b03ef button');\n",
              "      quickchartButtonEl.style.display =\n",
              "        google.colab.kernel.accessAllowed ? 'block' : 'none';\n",
              "    })();\n",
              "  </script>\n",
              "</div>\n",
              "\n",
              "    </div>\n",
              "  </div>\n"
            ],
            "application/vnd.google.colaboratory.intrinsic+json": {
              "type": "dataframe",
              "variable_name": "vehicles_2_encoded",
              "summary": "{\n  \"name\": \"vehicles_2_encoded\",\n  \"rows\": 157,\n  \"fields\": [\n    {\n      \"column\": \"sales\",\n      \"properties\": {\n        \"dtype\": \"number\",\n        \"std\": 68,\n        \"min\": 0,\n        \"max\": 540,\n        \"num_unique_values\": 82,\n        \"samples\": [\n          76,\n          16,\n          32\n        ],\n        \"semantic_type\": \"\",\n        \"description\": \"\"\n      }\n    },\n    {\n      \"column\": \"price\",\n      \"properties\": {\n        \"dtype\": \"number\",\n        \"std\": 1.0032000081789558,\n        \"min\": -1.3036195752253272,\n        \"max\": 4.32401746225246,\n        \"num_unique_values\": 44,\n        \"samples\": [\n          1.0659118089758461,\n          -0.48909316190617375,\n          3.1392517701518736\n        ],\n        \"semantic_type\": \"\",\n        \"description\": \"\"\n      }\n    },\n    {\n      \"column\": \"engine\",\n      \"properties\": {\n        \"dtype\": \"number\",\n        \"std\": 1.003200008178956,\n        \"min\": -1.5942154774389021,\n        \"max\": 4.992411626716562,\n        \"num_unique_values\": 6,\n        \"samples\": [\n          -1.5942154774389021,\n          0.2876779808912305,\n          4.992411626716562\n        ],\n        \"semantic_type\": \"\",\n        \"description\": \"\"\n      }\n    },\n    {\n      \"column\": \"horsepow\",\n      \"properties\": {\n        \"dtype\": \"number\",\n        \"std\": 1.0032000081789556,\n        \"min\": -2.367516096738901,\n        \"max\": 4.841278067313877,\n        \"num_unique_values\": 65,\n        \"samples\": [\n          0.5890020161131246,\n          0.16924944453536797,\n          -0.8162565930819738\n        ],\n        \"semantic_type\": \"\",\n        \"description\": \"\"\n      }\n    },\n    {\n      \"column\": \"wheelbas\",\n      \"properties\": {\n        \"dtype\": \"number\",\n        \"std\": 1.0032000081789554,\n        \"min\": -2.043369976129819,\n        \"max\": 4.126035528723672,\n        \"num_unique_values\": 32,\n        \"samples\": [\n          -1.7751349541796668,\n          -1.9092524651547427,\n          1.5778028201972303\n        ],\n        \"semantic_type\": \"\",\n        \"description\": \"\"\n      }\n    },\n    {\n      \"column\": \"width\",\n      \"properties\": {\n        \"dtype\": \"number\",\n        \"std\": 1.003200008178955,\n        \"min\": -1.7065705456731335,\n        \"max\": 2.4474073717017806,\n        \"num_unique_values\": 15,\n        \"samples\": [\n          -0.5197197121374437,\n          -1.4098578372892112,\n          -1.1131451289052887\n        ],\n        \"semantic_type\": \"\",\n        \"description\": \"\"\n      }\n    },\n    {\n      \"column\": \"length\",\n      \"properties\": {\n        \"dtype\": \"number\",\n        \"std\": 1.0032000081789554,\n        \"min\": -2.84305899395016,\n        \"max\": 2.778606774943733,\n        \"num_unique_values\": 52,\n        \"samples\": [\n          1.6542736211649545,\n          -2.2434146452681447,\n          -1.194037035074618\n        ],\n        \"semantic_type\": \"\",\n        \"description\": \"\"\n      }\n    },\n    {\n      \"column\": \"weight\",\n      \"properties\": {\n        \"dtype\": \"number\",\n        \"std\": 1.003200008178955,\n        \"min\": -2.7831920645289796,\n        \"max\": 3.22314682387033,\n        \"num_unique_values\": 5,\n        \"samples\": [\n          0.21997737967067532,\n          1.721562101770503,\n          3.22314682387033\n        ],\n        \"semantic_type\": \"\",\n        \"description\": \"\"\n      }\n    },\n    {\n      \"column\": \"fuelcap\",\n      \"properties\": {\n        \"dtype\": \"number\",\n        \"std\": 1.0032000081789552,\n        \"min\": -1.9489652478895392,\n        \"max\": 3.6421692755410824,\n        \"num_unique_values\": 19,\n        \"samples\": [\n          -1.1865378128762727,\n          0.33831705715026056,\n          2.1173144055145494\n        ],\n        \"semantic_type\": \"\",\n        \"description\": \"\"\n      }\n    },\n    {\n      \"column\": \"mpg\",\n      \"properties\": {\n        \"dtype\": \"number\",\n        \"std\": 1.0032000081789558,\n        \"min\": -2.08731152394057,\n        \"max\": 5.005933265208121,\n        \"num_unique_values\": 20,\n        \"samples\": [\n          0.9864278846905292,\n          1.9321938565770214,\n          1.4593108706337752\n        ],\n        \"semantic_type\": \"\",\n        \"description\": \"\"\n      }\n    },\n    {\n      \"column\": \"type_Truck\",\n      \"properties\": {\n        \"dtype\": \"number\",\n        \"std\": 0,\n        \"min\": 0,\n        \"max\": 1,\n        \"num_unique_values\": 2,\n        \"samples\": [\n          1,\n          0\n        ],\n        \"semantic_type\": \"\",\n        \"description\": \"\"\n      }\n    }\n  ]\n}"
            }
          },
          "metadata": {},
          "execution_count": 27
        }
      ]
    },
    {
      "cell_type": "markdown",
      "source": [
        "**Multiple Linear Regression:**"
      ],
      "metadata": {
        "id": "SWd17uv6eKUT"
      }
    },
    {
      "cell_type": "markdown",
      "source": [
        "8. Build a multiple linear regression model to predict mpg based on the\n",
        "following features: weight, engine, horsepower, wheelbase, and fuelcap.Provide the code to fit the model."
      ],
      "metadata": {
        "id": "R_QIBHUZeNVJ"
      }
    },
    {
      "cell_type": "code",
      "source": [
        "X = vehicles_2_encoded[['weight', 'engine', 'horsepow', 'wheelbas', 'fuelcap']]\n",
        "\n",
        "y = vehicles_2_encoded['mpg']\n",
        "\n",
        "model = LinearRegression()\n",
        "\n",
        "model.fit(X, y)\n",
        "\n",
        "print(f\"Coefficients: {model.coef_}\")\n",
        "print(f\"Intercept: {model.intercept_}\")"
      ],
      "metadata": {
        "colab": {
          "base_uri": "https://localhost:8080/"
        },
        "id": "i1UILuVWeVMm",
        "outputId": "ce700584-a7ba-4519-82c9-0f3b3ce4a62a"
      },
      "execution_count": null,
      "outputs": [
        {
          "output_type": "stream",
          "name": "stdout",
          "text": [
            "Coefficients: [-0.21082424 -0.2143737  -0.09587136  0.06902929 -0.49981387]\n",
            "Intercept: -2.175898367849549e-18\n"
          ]
        }
      ]
    },
    {
      "cell_type": "markdown",
      "source": [
        "9. Display the equation of the fitted model and interpret the coefficients."
      ],
      "metadata": {
        "id": "acgiy2xbeV4A"
      }
    },
    {
      "cell_type": "markdown",
      "source": [
        "mpg= −0.21 × weight −0.21 × engine −0.10 × horsepower + 0.07 × wheelbase −0.50 × fuelcap\n",
        "- Weight (-0.21): For every unit increase in weight, mpg decreases by 0.21, holding other variables constant.\n",
        "- Engine (-0.21): For every unit increase in engine size, mpg decreases by 0.21, all else equal.\n",
        "- Horsepower (-0.10): Higher horsepower is associated with a 0.10 decrease in mpg, assuming other factors remain constant.\n",
        "- Wheelbase (+0.07): A larger wheelbase slightly increases mpg by 0.07 units, keeping other variables constant.\n",
        "- Fuel Capacity (-0.50): For every unit increase in fuel capacity, mpg decreases by 0.50, holding other factors constant."
      ],
      "metadata": {
        "id": "W7VTTCI9udNR"
      }
    },
    {
      "cell_type": "markdown",
      "source": [
        "10. Evaluate the model\n",
        "performance by calculating and displaying the R-squared value and the root mean squared error (RMSE)."
      ],
      "metadata": {
        "id": "A38ZTfWMebqx"
      }
    },
    {
      "cell_type": "code",
      "source": [
        "y_pred = model.predict(X)\n",
        "\n",
        "r_squared = r2_score(y, y_pred)\n",
        "\n",
        "rmse = np.sqrt(mean_squared_error(y, y_pred))\n",
        "\n",
        "print(f\"R-squared: {r_squared}\")\n",
        "print(f\"RMSE: {rmse}\")"
      ],
      "metadata": {
        "colab": {
          "base_uri": "https://localhost:8080/"
        },
        "id": "VoJ6nGygec1T",
        "outputId": "117a6c37-d331-4fee-a47e-8be37e8e9c1d"
      },
      "execution_count": null,
      "outputs": [
        {
          "output_type": "stream",
          "name": "stdout",
          "text": [
            "R-squared: 0.7349769930541815\n",
            "RMSE: 0.5148038528855612\n"
          ]
        }
      ]
    },
    {
      "cell_type": "markdown",
      "source": [
        "11. Which features are the most significant predictors of mpg? Explain how you determined their\n",
        "significance."
      ],
      "metadata": {
        "id": "UaK-2we5edSI"
      }
    },
    {
      "cell_type": "markdown",
      "source": [
        "I determined the most important predictors by looking at the size of the coefficients in the model. The bigger the coefficient, the more impact that feature has on predicting mpg.\n",
        "\n",
        "- Fuelcap has the largest coefficient (-0.50), so it has the biggest effect on mpg. Weight and engine both have similar coefficients (-0.21), meaning they have a moderate influence on mpg."
      ],
      "metadata": {
        "id": "mnzo_5rgeh3O"
      }
    }
  ]
}