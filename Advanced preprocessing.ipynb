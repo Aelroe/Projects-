{
 "cells": [
  {
   "cell_type": "markdown",
   "id": "GCuSesa7f0Bl",
   "metadata": {
    "id": "GCuSesa7f0Bl"
   },
   "source": [
    "# **W2-Lab1.Questions-DataUnderstanding.ipynb**"
   ]
  },
  {
   "cell_type": "markdown",
   "id": "b3690c20",
   "metadata": {
    "id": "b3690c20"
   },
   "source": [
    "# Question 1: Data Understanding"
   ]
  },
  {
   "cell_type": "markdown",
   "id": "1acac707",
   "metadata": {
    "id": "1acac707"
   },
   "source": [
    "### Task:\n",
    "Print the data types of each column and use descriptive statistics to understand the data."
   ]
  },
  {
   "cell_type": "code",
   "execution_count": 58,
   "id": "2a742e02",
   "metadata": {
    "colab": {
     "base_uri": "https://localhost:8080/"
    },
    "id": "2a742e02",
    "outputId": "814ef129-efba-4ae0-d2cd-c01ca4685d41"
   },
   "outputs": [
    {
     "name": "stdout",
     "output_type": "stream",
     "text": [
      "Data Types of Each Column:\n",
      "ID              int64\n",
      "Size(sqft)    float64\n",
      "Bedrooms      float64\n",
      "Badhrooms     float64\n",
      "Location       object\n",
      "House_Type     object\n",
      "Year_Built    float64\n",
      "Date_Sold      object\n",
      "Price         float64\n",
      "dtype: object\n",
      "\n",
      "\n",
      "Descriptive Statistics:\n",
      "                ID     Size(sqft)    Bedrooms   Badhrooms Location House_Type  \\\n",
      "count   110.000000      98.000000  102.000000   90.000000      100         95   \n",
      "unique         NaN            NaN         NaN         NaN        3         15   \n",
      "top            NaN            NaN         NaN         NaN    Urban  Apartment   \n",
      "freq           NaN            NaN         NaN         NaN       37         25   \n",
      "mean     55.500000   17912.581633   14.813725   12.677778      NaN        NaN   \n",
      "std      31.898276   72463.968277   65.929114   50.381874      NaN        NaN   \n",
      "min       1.000000   -4529.000000   -3.000000   -3.000000      NaN        NaN   \n",
      "25%      28.250000    1415.500000    2.000000    1.000000      NaN        NaN   \n",
      "50%      55.500000    2544.500000    3.000000    2.000000      NaN        NaN   \n",
      "75%      82.750000    3803.500000    5.000000    3.000000      NaN        NaN   \n",
      "max     110.000000  497400.000000  500.000000  300.000000      NaN        NaN   \n",
      "\n",
      "           Year_Built     Date_Sold         Price  \n",
      "count       99.000000           100  1.050000e+02  \n",
      "unique            NaN            88           NaN  \n",
      "top               NaN  1/1/22 00:00           NaN  \n",
      "freq              NaN             3           NaN  \n",
      "mean     11554.797980           NaN  1.424262e+06  \n",
      "std      42931.458381           NaN  1.239105e+07  \n",
      "min      -1991.000000           NaN -4.494570e+07  \n",
      "25%       1918.500000           NaN  2.913350e+05  \n",
      "50%       1949.000000           NaN  4.535310e+05  \n",
      "75%       1990.000000           NaN  7.485310e+05  \n",
      "max     200800.000000           NaN  7.481430e+07  \n"
     ]
    }
   ],
   "source": [
    "import pandas as pd\n",
    "\n",
    "file_path = 'house_prices.csv'\n",
    "df = pd.read_csv(file_path)\n",
    "\n",
    "print(\"Data Types of Each Column:\")\n",
    "print(df.dtypes)\n",
    "print(\"\\n\")\n",
    "\n",
    "print(\"Descriptive Statistics:\")\n",
    "print(df.describe(include='all'))"
   ]
  },
  {
   "cell_type": "markdown",
   "id": "EvWgiEzBPxmi",
   "metadata": {
    "id": "EvWgiEzBPxmi"
   },
   "source": [
    "The data types for ID (int64), Size(sqft) (float64), Bedrooms (float64), Bathrooms (float64), Location (object), House_Type (object), Year_Built (float64), Date_Sold (object), and Price (float64) are mostly correct except\n",
    "- changing the data type of Date_Sold to datetime\n",
    "- Price Column shows -ve min value, probably not right\n",
    "- counts of some columns do not match the total number of rows\n",
    "- inconsistent formatting in location and house_type\n",
    "- Spelling of bathrooms is incorrect\n"
   ]
  },
  {
   "cell_type": "code",
   "execution_count": 61,
   "id": "SnX-nOhGSBpU",
   "metadata": {
    "colab": {
     "base_uri": "https://localhost:8080/"
    },
    "id": "SnX-nOhGSBpU",
    "outputId": "e8b15c56-9826-47dc-a52d-ca511acfd0f3"
   },
   "outputs": [
    {
     "name": "stdout",
     "output_type": "stream",
     "text": [
      "0   2020-07-21\n",
      "1   2022-02-02\n",
      "2   2023-06-06\n",
      "3   2023-06-04\n",
      "4          NaT\n",
      "Name: Date_Sold, dtype: datetime64[ns]\n"
     ]
    }
   ],
   "source": [
    "# Convert 'Date_Sold' to datetime\n",
    "df['Date_Sold'] = pd.to_datetime(df['Date_Sold'])\n",
    "print(df['Date_Sold'].head())"
   ]
  },
  {
   "cell_type": "code",
   "execution_count": 60,
   "id": "RpDtHHf_TAHR",
   "metadata": {
    "colab": {
     "base_uri": "https://localhost:8080/"
    },
    "id": "RpDtHHf_TAHR",
    "outputId": "2271233b-964c-4baf-87ad-dffc80e138a4"
   },
   "outputs": [
    {
     "name": "stdout",
     "output_type": "stream",
     "text": [
      "Index(['ID', 'Size(sqft)', 'Bedrooms', 'Bathrooms', 'Location', 'House_Type',\n",
      "       'Year_Built', 'Date_Sold', 'Price'],\n",
      "      dtype='object')\n"
     ]
    }
   ],
   "source": [
    "# Rename Badhrooms to Bathrooms\n",
    "df.rename(columns={'Badhrooms': 'Bathrooms'}, inplace=True)\n",
    "print(df.columns)"
   ]
  },
  {
   "cell_type": "markdown",
   "id": "0d80a03c",
   "metadata": {
    "id": "0d80a03c"
   },
   "source": [
    "# Question 2: Identifying and Handling Missing Values"
   ]
  },
  {
   "cell_type": "markdown",
   "id": "4560cd7e",
   "metadata": {
    "id": "4560cd7e"
   },
   "source": [
    "### Task:\n",
    "Identify missing values in the dataset and propose methods to handle them."
   ]
  },
  {
   "cell_type": "code",
   "execution_count": 62,
   "id": "f81e9358",
   "metadata": {
    "colab": {
     "base_uri": "https://localhost:8080/"
    },
    "id": "f81e9358",
    "outputId": "73aea520-34ef-4891-c06b-c9cedb78dc9d"
   },
   "outputs": [
    {
     "name": "stdout",
     "output_type": "stream",
     "text": [
      "Size(sqft)    12\n",
      "Bedrooms       8\n",
      "Bathrooms     20\n",
      "Location      10\n",
      "House_Type    15\n",
      "Year_Built    11\n",
      "Date_Sold     10\n",
      "Price          5\n",
      "dtype: int64\n"
     ]
    }
   ],
   "source": [
    "missing_values = df.isnull().sum()\n",
    "\n",
    "print(missing_values[missing_values > 0])"
   ]
  },
  {
   "cell_type": "markdown",
   "id": "p3jKWXVvUrw8",
   "metadata": {
    "id": "p3jKWXVvUrw8"
   },
   "source": [
    "  * Patterns\n",
    "- Bathrooms have the highest number of missing values, meaning there must be a significant issue\n",
    "- Price has the fewest but is probably the most important\n",
    "\n",
    "    **Handling the missing values**\n",
    " - Use mean or median for numerical values like bathrooms and bedrooms\n",
    " - use most frequent value or apply forward for location, House_Type, Date_Sold as these are categorical    \n",
    " - For price we either need to remove these rows if data loss is acceptable or use a method to predict the prices"
   ]
  },
  {
   "cell_type": "markdown",
   "id": "85c95276",
   "metadata": {
    "id": "85c95276"
   },
   "source": [
    "# Question 3: Detecting and Correcting Invalid Entries"
   ]
  },
  {
   "cell_type": "markdown",
   "id": "776598d4",
   "metadata": {
    "id": "776598d4"
   },
   "source": [
    "### Task:\n",
    "Identify and correct invalid entries in the dataset."
   ]
  },
  {
   "cell_type": "code",
   "execution_count": 74,
   "id": "297a64f5",
   "metadata": {
    "colab": {
     "base_uri": "https://localhost:8080/"
    },
    "id": "297a64f5",
    "outputId": "e16d7d70-821d-4760-d73f-88bb6dabccba"
   },
   "outputs": [
    {
     "name": "stdout",
     "output_type": "stream",
     "text": [
      "ID                     int64\n",
      "Size(sqft)           float64\n",
      "Bedrooms             float64\n",
      "Bathrooms            float64\n",
      "Location              object\n",
      "House_Type            object\n",
      "Year_Built           float64\n",
      "Date_Sold     datetime64[ns]\n",
      "Price                float64\n",
      "dtype: object\n",
      "\n",
      "Sample of Cleaned Data:\n",
      "   ID  Size(sqft)  Bedrooms  Bathrooms  Location     House_Type  Year_Built  \\\n",
      "0   1       837.0       1.0        NaN     Rural            NaN      1938.0   \n",
      "1   2      1378.0       1.0        1.0       NaN      Townhouse    200800.0   \n",
      "2   3    157600.0       4.0        1.0     Rural  Semi-Detached      1952.0   \n",
      "3   4         NaN       NaN        1.0     Urban      Townhouse      1941.0   \n",
      "4   5       879.0       6.0        3.0  Suburban      Townhouse         NaN   \n",
      "\n",
      "   Date_Sold     Price  \n",
      "0 2020-07-21  221958.0  \n",
      "1 2022-02-02  771155.0  \n",
      "2 2023-06-06  231932.0  \n",
      "3 2023-06-04  465838.0  \n",
      "4        NaT  359178.0  \n"
     ]
    }
   ],
   "source": [
    "import numpy as np\n",
    "df.rename(columns={'Badhrooms': 'Bathrooms'}, inplace=True)\n",
    "\n",
    "df['Size(sqft)'] = df['Size(sqft)'].apply(lambda x: x if x >= 0 else np.nan)\n",
    "df['Bedrooms'] = df['Bedrooms'].apply(lambda x: x if x >= 0 else np.nan)\n",
    "df['Bathrooms'] = df['Bathrooms'].apply(lambda x: x if x >= 0 else np.nan)\n",
    "\n",
    "df['Year_Built'] = df['Year_Built'].apply(lambda x: x if x >= 1900 else np.nan)\n",
    "\n",
    "df['Date_Sold'] = pd.to_datetime(df['Date_Sold'], errors='coerce')\n",
    "\n",
    "df['Price'] = df['Price'].apply(lambda x: x if x >= 0 else np.nan)\n",
    "\n",
    "print(df.dtypes)\n",
    "\n",
    "print(\"\\nSample of Cleaned Data:\")\n",
    "print(df.head())"
   ]
  },
  {
   "cell_type": "markdown",
   "id": "aua7Uh9RZazv",
   "metadata": {
    "id": "aua7Uh9RZazv"
   },
   "source": [
    "- Changed negative values in Size(sqft), Bedrooms, Bathrooms, and Price to NaN, as these fields should logically only have non-negative values, meaning if it was less than 0 i changed it to NaN(Not applicable)\n",
    "- Converting to datetime format helps identify and correct invalid dates. errors='coerce' will turn invalid dates into NaN for example house built before the 1900s\n",
    "- Renaming the column Badhrooms to Bathrooms"
   ]
  },
  {
   "cell_type": "markdown",
   "id": "edef0b75",
   "metadata": {
    "id": "edef0b75"
   },
   "source": [
    "# Question 4: Addressing Duplicate Records"
   ]
  },
  {
   "cell_type": "markdown",
   "id": "380c8f04",
   "metadata": {
    "id": "380c8f04"
   },
   "source": [
    "### Task:\n",
    "Identify and remove duplicate records from the dataset."
   ]
  },
  {
   "cell_type": "code",
   "execution_count": 64,
   "id": "41d53e65",
   "metadata": {
    "colab": {
     "base_uri": "https://localhost:8080/"
    },
    "id": "41d53e65",
    "outputId": "12a50adc-b389-4d2e-ae45-66c4adce5f84"
   },
   "outputs": [
    {
     "name": "stdout",
     "output_type": "stream",
     "text": [
      "Duplicates\n",
      "Empty DataFrame\n",
      "Columns: [ID, Size(sqft), Bedrooms, Bathrooms, Location, House_Type, Year_Built, Date_Sold, Price]\n",
      "Index: []\n",
      "Cleaned Data:\n",
      "   ID  Size(sqft)  Bedrooms  Bathrooms  Location     House_Type  Year_Built  \\\n",
      "0   1       837.0       1.0        NaN     Rural            NaN      1938.0   \n",
      "1   2      1378.0       1.0        1.0       NaN      Townhouse    200800.0   \n",
      "2   3    157600.0       4.0        1.0     Rural  Semi-Detached      1952.0   \n",
      "3   4     -4493.0       NaN        1.0     Urban      Townhouse      1941.0   \n",
      "4   5       879.0       6.0        3.0  Suburban      Townhouse         NaN   \n",
      "\n",
      "   Date_Sold     Price  \n",
      "0 2020-07-21  221958.0  \n",
      "1 2022-02-02  771155.0  \n",
      "2 2023-06-06  231932.0  \n",
      "3 2023-06-04  465838.0  \n",
      "4        NaT  359178.0  \n"
     ]
    }
   ],
   "source": [
    "\n",
    "duplicates = df[df.duplicated()]\n",
    "\n",
    "print(\"Duplicates\")\n",
    "print(duplicates)\n",
    "\n",
    "df_cleaned = df.drop_duplicates()\n",
    "\n",
    "print(\"Cleaned Data:\")\n",
    "print(df_cleaned.head())"
   ]
  },
  {
   "cell_type": "markdown",
   "id": "BUMr3nbQvFIo",
   "metadata": {
    "id": "BUMr3nbQvFIo"
   },
   "source": [
    "- I used df.duplicated() to filter and view the duplicate records.\n",
    "- The approach I used is keeping the first occurrence as no criteria was given and it is most likely entered twice mistakenly"
   ]
  },
  {
   "cell_type": "markdown",
   "id": "0cc7f709",
   "metadata": {
    "id": "0cc7f709"
   },
   "source": [
    "# Question 5: Data Range Issues"
   ]
  },
  {
   "cell_type": "markdown",
   "id": "9d23d2d0",
   "metadata": {
    "id": "9d23d2d0"
   },
   "source": [
    "### Task:\n",
    "Identify and address any data range issues."
   ]
  },
  {
   "cell_type": "code",
   "execution_count": 75,
   "id": "b3931874",
   "metadata": {
    "colab": {
     "base_uri": "https://localhost:8080/"
    },
    "id": "b3931874",
    "outputId": "1ea12f2e-73ef-44ca-b51f-2013fd626ea6"
   },
   "outputs": [
    {
     "name": "stdout",
     "output_type": "stream",
     "text": [
      "Empty DataFrame\n",
      "Columns: [ID, Size(sqft), Bedrooms, Bathrooms, Location, House_Type, Year_Built, Date_Sold, Price]\n",
      "Index: []\n"
     ]
    }
   ],
   "source": [
    "negative_sizes = df[df['Size(sqft)'] < 0]\n",
    "print(negative_sizes)\n",
    "\n",
    "df['Size(sqft)'] = df['Size(sqft)'].apply(lambda x: x if x > 0 else np.nan)\n",
    "\n"
   ]
  },
  {
   "cell_type": "markdown",
   "id": "IfbgdnSYzFt5",
   "metadata": {
    "id": "IfbgdnSYzFt5"
   },
   "source": [
    "- Identify rows where square ft was negative as that doesn't make sense so I put it to Nan so it's easier to remove"
   ]
  },
  {
   "cell_type": "code",
   "execution_count": 76,
   "id": "DkhVqtqLx5QY",
   "metadata": {
    "colab": {
     "base_uri": "https://localhost:8080/"
    },
    "id": "DkhVqtqLx5QY",
    "outputId": "2579359a-0f54-4248-9b46-50527e2170f1"
   },
   "outputs": [
    {
     "name": "stdout",
     "output_type": "stream",
     "text": [
      "Empty DataFrame\n",
      "Columns: [ID, Size(sqft), Bedrooms, Bathrooms, Location, House_Type, Year_Built, Date_Sold, Price]\n",
      "Index: []\n",
      "Empty DataFrame\n",
      "Columns: [ID, Size(sqft), Bedrooms, Bathrooms, Location, House_Type, Year_Built, Date_Sold, Price]\n",
      "Index: []\n"
     ]
    }
   ],
   "source": [
    "import numpy as np\n",
    "unrealistic_bedrooms = df[df['Bedrooms'] < 0]\n",
    "unrealistic_bathrooms = df[df['Bathrooms'] < 0]\n",
    "\n",
    "print(unrealistic_bedrooms)\n",
    "\n",
    "print(unrealistic_bathrooms)\n",
    "\n",
    "df['Bedrooms'] = df['Bedrooms'].apply(lambda x: x if x >= 0 and x <= 20 else np.nan)\n",
    "df['Bathrooms'] = df['Bathrooms'].apply(lambda x: x if x >= 0 and x <= 20 else np.nan)"
   ]
  },
  {
   "cell_type": "markdown",
   "id": "GlKM4TcVzcTR",
   "metadata": {
    "id": "GlKM4TcVzcTR"
   },
   "source": [
    "- Changed rows where bedroom and bathroom were either negative or too much for a house and set them too Nan so it's easier to remove"
   ]
  },
  {
   "cell_type": "code",
   "execution_count": 77,
   "id": "5e_GBBWIyJ6u",
   "metadata": {
    "colab": {
     "base_uri": "https://localhost:8080/"
    },
    "id": "5e_GBBWIyJ6u",
    "outputId": "5b2e1904-5ac8-49de-fd3a-0aa6df697c57"
   },
   "outputs": [
    {
     "name": "stdout",
     "output_type": "stream",
     "text": [
      "Empty DataFrame\n",
      "Columns: [ID, Size(sqft), Bedrooms, Bathrooms, Location, House_Type, Year_Built, Date_Sold, Price]\n",
      "Index: []\n"
     ]
    }
   ],
   "source": [
    "import numpy as np\n",
    "unrealistic_year_built = df[df['Year_Built'] < 1900]\n",
    "print(unrealistic_year_built)\n",
    "\n",
    "df['Year_Built'] = df['Year_Built'].apply(lambda x: x if x >= 1900 and x <= 2024 else np.nan)"
   ]
  },
  {
   "cell_type": "markdown",
   "id": "lmIKEfFMzwTb",
   "metadata": {
    "id": "lmIKEfFMzwTb"
   },
   "source": [
    "Changed years built-in before the 1900s and in the future to Nan so it's easier to remove"
   ]
  },
  {
   "cell_type": "code",
   "execution_count": 78,
   "id": "1EhrMhCdyipf",
   "metadata": {
    "colab": {
     "base_uri": "https://localhost:8080/"
    },
    "id": "1EhrMhCdyipf",
    "outputId": "fa52a113-cdc7-486b-eef9-432464df9c8c"
   },
   "outputs": [
    {
     "name": "stdout",
     "output_type": "stream",
     "text": [
      "Empty DataFrame\n",
      "Columns: [ID, Size(sqft), Bedrooms, Bathrooms, Location, House_Type, Year_Built, Date_Sold, Price]\n",
      "Index: []\n"
     ]
    }
   ],
   "source": [
    "import numpy as np\n",
    "df['Date_Sold'] = pd.to_datetime(df['Date_Sold'], errors='coerce')\n",
    "future_dates = df[df['Date_Sold'] > pd.Timestamp.now()]\n",
    "print(future_dates)\n",
    "df['Date_Sold'] = df['Date_Sold'].apply(lambda x: x if x <= pd.Timestamp.now() else np.nan)"
   ]
  },
  {
   "cell_type": "code",
   "execution_count": 70,
   "id": "T1JCP0bCyutS",
   "metadata": {
    "colab": {
     "base_uri": "https://localhost:8080/"
    },
    "id": "T1JCP0bCyutS",
    "outputId": "faec2072-48dc-482d-cbe6-110bcfa24cfc"
   },
   "outputs": [
    {
     "name": "stdout",
     "output_type": "stream",
     "text": [
      "   ID  Size(sqft)  Bedrooms  Bathrooms  Location     House_Type  Year_Built  \\\n",
      "0   1       837.0       1.0        NaN     Rural            NaN      1938.0   \n",
      "1   2      1378.0       1.0        1.0       NaN      Townhouse    200800.0   \n",
      "2   3    157600.0       4.0        1.0     Rural  Semi-Detached      1952.0   \n",
      "3   4     -4493.0       NaN        1.0     Urban      Townhouse      1941.0   \n",
      "4   5       879.0       6.0        3.0  Suburban      Townhouse         NaN   \n",
      "\n",
      "   Date_Sold     Price  \n",
      "0 2020-07-21  221958.0  \n",
      "1 2022-02-02  771155.0  \n",
      "2 2023-06-06  231932.0  \n",
      "3 2023-06-04  465838.0  \n",
      "4        NaT  359178.0  \n"
     ]
    }
   ],
   "source": [
    "print(df.head())"
   ]
  },
  {
   "cell_type": "markdown",
   "id": "28cc35e0",
   "metadata": {
    "id": "28cc35e0"
   },
   "source": [
    "# Question 6: Format Inconsistencies"
   ]
  },
  {
   "cell_type": "markdown",
   "id": "ed94532e",
   "metadata": {
    "id": "ed94532e"
   },
   "source": [
    "### Task:\n",
    "Identify and correct any format inconsistencies in the dataset."
   ]
  },
  {
   "cell_type": "code",
   "execution_count": 71,
   "id": "da05c9d2",
   "metadata": {
    "colab": {
     "base_uri": "https://localhost:8080/"
    },
    "id": "da05c9d2",
    "outputId": "9483f2a0-b485-4e13-a4ec-fbfb05709a26"
   },
   "outputs": [
    {
     "name": "stdout",
     "output_type": "stream",
     "text": [
      "    ID  Size(sqft)  Bedrooms  Bathrooms  Location House_Type  Year_Built  \\\n",
      "4    5       879.0       6.0        3.0  Suburban  Townhouse         NaN   \n",
      "15  16      4061.0       NaN        1.0  Suburban   Detached      1917.0   \n",
      "22  23      1304.0       4.0        1.0     Urban  Townhouse      1916.0   \n",
      "32  33      4988.0       NaN        3.0     Urban   Detached         NaN   \n",
      "40  41      2178.0       5.0        3.0     Rural     627035      2011.0   \n",
      "49  50      3560.0      -1.0        1.0     Urban     655839      1903.0   \n",
      "55  56      2029.0       4.0        3.0     Urban   Detached      2007.0   \n",
      "77  78      2136.0       4.0        NaN     Urban  Townhouse    197600.0   \n",
      "87  88      3277.0       6.0        NaN     Rural   Detached      2016.0   \n",
      "92  93         NaN       6.0        1.0     Urban  Apartment      1931.0   \n",
      "\n",
      "   Date_Sold     Price  \n",
      "4        NaT  359178.0  \n",
      "15       NaT  378167.0  \n",
      "22       NaT  427069.0  \n",
      "32       NaT  358795.0  \n",
      "40       NaT  627035.0  \n",
      "49       NaT  655839.0  \n",
      "55       NaT  356840.0  \n",
      "77       NaT  922352.0  \n",
      "87       NaT  371836.0  \n",
      "92       NaT  323165.0  \n",
      "          Size(sqft)\n",
      "count      98.000000\n",
      "mean    17912.581633\n",
      "std     72463.968277\n",
      "min     -4529.000000\n",
      "25%      1415.500000\n",
      "50%      2544.500000\n",
      "75%      3803.500000\n",
      "max    497400.000000\n",
      "   Location     House_Type\n",
      "0     Rural            NaN\n",
      "1       NaN      Townhouse\n",
      "2     Rural  Semi-Detached\n",
      "3     Urban      Townhouse\n",
      "4  Suburban      Townhouse\n",
      "   ID  Size(sqft)  Bedrooms  Bathrooms  Location     House_Type  Year_Built  \\\n",
      "0   1       837.0       1.0        NaN     Rural            NaN      1938.0   \n",
      "1   2      1378.0       1.0        1.0       NaN      Townhouse    200800.0   \n",
      "2   3    157600.0       4.0        1.0     Rural  Semi-Detached      1952.0   \n",
      "3   4     -4493.0       NaN        1.0     Urban      Townhouse      1941.0   \n",
      "4   5       879.0       6.0        3.0  Suburban      Townhouse         NaN   \n",
      "\n",
      "   Date_Sold     Price  \n",
      "0 2020-07-21  221958.0  \n",
      "1 2022-02-02  771155.0  \n",
      "2 2023-06-06  231932.0  \n",
      "3 2023-06-04  465838.0  \n",
      "4        NaT  359178.0  \n"
     ]
    }
   ],
   "source": [
    "\n",
    "\n",
    "df['Date_Sold'] = pd.to_datetime(df['Date_Sold'], errors='coerce')\n",
    "inconsistent_dates = df[df['Date_Sold'].isna()]\n",
    "print(inconsistent_dates)\n",
    "\n",
    "print(df[['Size(sqft)']].describe())\n",
    "\n",
    "df['Location'] = df['Location'].str.title()\n",
    "df['House_Type'] = df['House_Type'].str.title()\n",
    "\n",
    "print(df[['Location', 'House_Type']].head())\n",
    "\n",
    "\n",
    "print(df.head())\n"
   ]
  },
  {
   "cell_type": "markdown",
   "id": "5Hh0YKIV1voe",
   "metadata": {
    "id": "5Hh0YKIV1voe"
   },
   "source": [
    "- Date format inconsistencies, changing errors to NaT to make them easier to remove\n",
    "- Inconsistent Units, making sure or size is square ft and convert the ones that are not accordingly so they all match\n",
    "- Concistent capitalization for easier data handling"
   ]
  },
  {
   "cell_type": "markdown",
   "id": "489dc8f4",
   "metadata": {
    "id": "489dc8f4"
   },
   "source": [
    "# Question 7: Misclassified Data"
   ]
  },
  {
   "cell_type": "markdown",
   "id": "6559df51",
   "metadata": {
    "id": "6559df51"
   },
   "source": [
    "### Task:\n",
    "Detect and correct any misclassified data within the dataset."
   ]
  },
  {
   "cell_type": "code",
   "execution_count": 79,
   "id": "YOtVD6Y14zIm",
   "metadata": {
    "colab": {
     "base_uri": "https://localhost:8080/"
    },
    "id": "YOtVD6Y14zIm",
    "outputId": "12368fe1-78e3-46a9-c15d-8d0dfffd26bd"
   },
   "outputs": [
    {
     "name": "stdout",
     "output_type": "stream",
     "text": [
      "Misclassified Numeric Data in Text Fields:\n",
      "Empty DataFrame\n",
      "Columns: [ID, Size(sqft), Bedrooms, Bathrooms, Location, House_Type, Year_Built, Date_Sold, Price]\n",
      "Index: []\n",
      "\n",
      "After Correcting Numeric Data in Text Fields:\n",
      "   Location     House_Type\n",
      "0     Rural            NaN\n",
      "1       NaN      Townhouse\n",
      "2     Rural  Semi-Detached\n",
      "3     Urban      Townhouse\n",
      "4  Suburban      Townhouse\n",
      "   ID  Size(sqft)  Bedrooms  Bathrooms  Location     House_Type  Year_Built  \\\n",
      "0   1       837.0       1.0        NaN     Rural            NaN      1938.0   \n",
      "1   2      1378.0       1.0        1.0       NaN      Townhouse         NaN   \n",
      "2   3    157600.0       4.0        1.0     Rural  Semi-Detached      1952.0   \n",
      "3   4         NaN       NaN        1.0     Urban      Townhouse      1941.0   \n",
      "4   5       879.0       6.0        3.0  Suburban      Townhouse         NaN   \n",
      "\n",
      "   Date_Sold     Price  \n",
      "0 2020-07-21  221958.0  \n",
      "1 2022-02-02  771155.0  \n",
      "2 2023-06-06  231932.0  \n",
      "3 2023-06-04  465838.0  \n",
      "4        NaT  359178.0  \n"
     ]
    }
   ],
   "source": [
    "import numpy as np\n",
    "numeric_cols = ['Size(sqft)', 'Bedrooms', 'Bathrooms', 'Year_Built', 'Price']\n",
    "text_cols = ['Location', 'House_Type']\n",
    "\n",
    "def is_numeric(x):\n",
    "    return isinstance(x, (int, float)) and not np.isnan(x)\n",
    "\n",
    "misclassified_text_fields = df[text_cols].apply(lambda col: col.map(is_numeric)).any(axis=1)\n",
    "misclassified_text_fields_df = df[misclassified_text_fields]\n",
    "\n",
    "print(\"Misclassified Numeric Data in Text Fields:\")\n",
    "print(misclassified_text_fields_df)\n",
    "\n",
    "df['Location'] = df['Location'].apply(lambda x: x if isinstance(x, str) else np.nan)\n",
    "df['House_Type'] = df['House_Type'].apply(lambda x: x if isinstance(x, str) else np.nan)\n",
    "\n",
    "print(\"\\nAfter Correcting Numeric Data in Text Fields:\")\n",
    "print(df[['Location', 'House_Type']].head())\n",
    "\n",
    "\n",
    "print(df.head())"
   ]
  },
  {
   "cell_type": "markdown",
   "id": "uXf0D_IJ6tMb",
   "metadata": {
    "id": "uXf0D_IJ6tMb"
   },
   "source": [
    "- Found Numerical values in text fields like Location and House type and I chose to change those values to NaN so they are easier to remove and identify"
   ]
  },
  {
   "cell_type": "markdown",
   "id": "4fb6aa93",
   "metadata": {
    "id": "4fb6aa93"
   },
   "source": [
    "# Question 8: Data Visualization"
   ]
  },
  {
   "cell_type": "markdown",
   "id": "539ddb81",
   "metadata": {
    "id": "539ddb81"
   },
   "source": [
    "### Task:\n",
    "Use visualizations to identify patterns, inconsistencies, or outliers in the dataset."
   ]
  },
  {
   "cell_type": "code",
   "execution_count": null,
   "id": "0PbWDeZU4Mu-",
   "metadata": {
    "colab": {
     "base_uri": "https://localhost:8080/",
     "height": 822
    },
    "id": "0PbWDeZU4Mu-",
    "outputId": "e09adb40-036f-4ec2-fdb0-75093245e8fd"
   },
   "outputs": [
    {
     "name": "stdout",
     "output_type": "stream",
     "text": [
      "Box Plots to Detect Outliers:\n"
     ]
    },
    {
     "data": {
      "image/png": "[encoded data removed]",
      "text/plain": [
       "<Figure size 1400x1000 with 5 Axes>"
      ]
     },
     "metadata": {},
     "output_type": "display_data"
    }
   ],
   "source": [
    "\n",
    "import matplotlib.pyplot as plt\n",
    "\n",
    "print(\"Box Plots to Detect Outliers:\")\n",
    "plt.figure(figsize=(14, 10))\n",
    "\n",
    "# Box plots for numerical columns\n",
    "for i, col in enumerate(['Size(sqft)', 'Bedrooms', 'Bathrooms', 'Year_Built', 'Price'], 1):\n",
    "    plt.subplot(2, 3, i)\n",
    "    sns.boxplot(x=df[col])\n",
    "    plt.title(f'Box Plot of {col}')\n",
    "    plt.xlabel(col)\n",
    "\n",
    "plt.tight_layout()\n",
    "plt.show()"
   ]
  },
  {
   "cell_type": "code",
   "execution_count": null,
   "id": "DFVLCqOH82Dj",
   "metadata": {
    "colab": {
     "base_uri": "https://localhost:8080/",
     "height": 717
    },
    "id": "DFVLCqOH82Dj",
    "outputId": "d5f35243-6c20-4b1b-cfdc-fa4db5bbedb9"
   },
   "outputs": [
    {
     "name": "stdout",
     "output_type": "stream",
     "text": [
      "Heatmap for Correlation Matrix:\n"
     ]
    },
    {
     "data": {
      "image/png": "[encoded data removed]",
      "text/plain": [
       "<Figure size 1000x800 with 2 Axes>"
      ]
     },
     "metadata": {},
     "output_type": "display_data"
    }
   ],
   "source": [
    "import matplotlib.pyplot as plt\n",
    "print(\"Heatmap for Correlation Matrix:\")\n",
    "plt.figure(figsize=(10, 8))\n",
    "correlation_matrix = df[['Size(sqft)', 'Bedrooms', 'Bathrooms', 'Year_Built', 'Price']].dropna().corr()\n",
    "sns.heatmap(correlation_matrix, annot=True, cmap='coolwarm', fmt='.2f')\n",
    "plt.title('Correlation Matrix')\n",
    "plt.show()"
   ]
  },
  {
   "cell_type": "markdown",
   "id": "V8fyymsq9QHg",
   "metadata": {
    "id": "V8fyymsq9QHg"
   },
   "source": [
    "  **Box plots to detect Outliers**\n",
    "  - The figure tries to display potential outliers for every numerical variable, helping us understand the values that deviate significantly from the majority of the data\n",
    "\n",
    "    **Heatmap for correlation Matrix**\n",
    "  - This shows us the strong correlation between variables that can help identify irrelevant features.\n",
    "\n"
   ]
  },
  {
   "cell_type": "markdown",
   "id": "P4aclqHjIq0R",
   "metadata": {
    "id": "P4aclqHjIq0R"
   },
   "source": [
    "# Lab 2"
   ]
  },
  {
   "cell_type": "markdown",
   "id": "0rCKUthKIyR3",
   "metadata": {
    "id": "0rCKUthKIyR3"
   },
   "source": [
    "**Project 1: Data Cleaning and Preprocessing**"
   ]
  },
  {
   "cell_type": "markdown",
   "id": "ZJwwktiWI4ms",
   "metadata": {
    "id": "ZJwwktiWI4ms"
   },
   "source": [
    "1. Identify and Remove Duplicates:"
   ]
  },
  {
   "cell_type": "code",
   "execution_count": 42,
   "id": "av2DurW6I8Xm",
   "metadata": {
    "colab": {
     "base_uri": "https://localhost:8080/"
    },
    "id": "av2DurW6I8Xm",
    "outputId": "290477c1-a023-4db2-8c25-fa596cdabe2d"
   },
   "outputs": [
    {
     "name": "stdout",
     "output_type": "stream",
     "text": [
      "Number of duplicates before removal: 0\n",
      "Number of duplicates after removal: 0\n"
     ]
    }
   ],
   "source": [
    "import pandas as pd\n",
    "\n",
    "file_path = 'house_prices.csv'\n",
    "df = pd.read_csv(file_path)\n",
    "\n",
    "duplicates = df.duplicated().sum()\n",
    "print(f\"Number of duplicates before removal: {duplicates}\")\n",
    "\n",
    "df = df.drop_duplicates()\n",
    "\n",
    "duplicates_after = df.duplicated().sum()\n",
    "print(f\"Number of duplicates after removal: {duplicates_after}\")"
   ]
  },
  {
   "cell_type": "markdown",
   "id": "JpO2ZcJRI-u_",
   "metadata": {
    "id": "JpO2ZcJRI-u_"
   },
   "source": [
    "2. Handling Missing Values:"
   ]
  },
  {
   "cell_type": "code",
   "execution_count": 43,
   "id": "zljy340KJFBZ",
   "metadata": {
    "colab": {
     "base_uri": "https://localhost:8080/"
    },
    "id": "zljy340KJFBZ",
    "outputId": "14a46a86-97f1-4295-e4b3-b6e5e18b1835"
   },
   "outputs": [
    {
     "name": "stdout",
     "output_type": "stream",
     "text": [
      "Missing values before handling:\n",
      " ID             0\n",
      "Size(sqft)    12\n",
      "Bedrooms       8\n",
      "Badhrooms     20\n",
      "Location      10\n",
      "House_Type    15\n",
      "Year_Built    11\n",
      "Date_Sold     10\n",
      "Price          5\n",
      "dtype: int64\n",
      "Missing values after handling:\n",
      " ID             0\n",
      "Size(sqft)     0\n",
      "Bedrooms       8\n",
      "Badhrooms     20\n",
      "Location       0\n",
      "House_Type     0\n",
      "Year_Built    11\n",
      "Date_Sold     10\n",
      "Price          0\n",
      "dtype: int64\n"
     ]
    }
   ],
   "source": [
    "missing_values = df.isnull().sum()\n",
    "print(\"Missing values before handling:\\n\", missing_values)\n",
    "\n",
    "df['Size(sqft)'].fillna(df['Size(sqft)'].mean(), inplace=True)\n",
    "df['Price'].fillna(df['Price'].median(), inplace=True)\n",
    "\n",
    "df['Location'].fillna(df['Location'].mode()[0], inplace=True)\n",
    "df['House_Type'].fillna('Unknown', inplace=True)\n",
    "\n",
    "missing_values_after = df.isnull().sum()\n",
    "print(\"Missing values after handling:\\n\", missing_values_after)"
   ]
  },
  {
   "cell_type": "markdown",
   "id": "5uhtWUeqJFhS",
   "metadata": {
    "id": "5uhtWUeqJFhS"
   },
   "source": [
    "3. Outlier Detection and Handling:"
   ]
  },
  {
   "cell_type": "code",
   "execution_count": 44,
   "id": "got1x3BRJHma",
   "metadata": {
    "colab": {
     "base_uri": "https://localhost:8080/"
    },
    "id": "got1x3BRJHma",
    "outputId": "e1252f8d-d116-4fcc-a18e-6bdb1f885a34"
   },
   "outputs": [
    {
     "name": "stdout",
     "output_type": "stream",
     "text": [
      "Number of outliers:\n",
      " ID            0\n",
      "Size(sqft)    4\n",
      "Bedrooms      0\n",
      "Badhrooms     0\n",
      "Year_Built    0\n",
      "Price         2\n",
      "dtype: int64\n",
      "Size(sqft) after Winsorization:\n",
      "count       110.000000\n",
      "mean      16558.818178\n",
      "std       59686.711229\n",
      "min       -4412.990000\n",
      "25%        1784.250000\n",
      "50%        3068.000000\n",
      "75%        4115.500000\n",
      "max      354095.000000\n",
      "Name: Size(sqft), dtype: float64\n"
     ]
    }
   ],
   "source": [
    "from scipy import stats\n",
    "\n",
    "z_scores = stats.zscore(df.select_dtypes(include=['float64', 'int64']))\n",
    "outliers = (z_scores > 3).sum(axis=0)\n",
    "print(\"Number of outliers:\\n\", outliers)\n",
    "\n",
    "df['Size(sqft)'] = df['Size(sqft)'].clip(lower=df['Size(sqft)'].quantile(0.01), upper=df['Size(sqft)'].quantile(0.99))\n",
    "\n",
    "print(f\"Size(sqft) after Winsorization:\\n{df['Size(sqft)'].describe()}\")"
   ]
  },
  {
   "cell_type": "markdown",
   "id": "8-lur0KDJJGB",
   "metadata": {
    "id": "8-lur0KDJJGB"
   },
   "source": [
    "**Project 2: Data Normalization and Standardization**"
   ]
  },
  {
   "cell_type": "markdown",
   "id": "ly7jSxoVJTtu",
   "metadata": {
    "id": "ly7jSxoVJTtu"
   },
   "source": [
    "1. Standardizing Features:"
   ]
  },
  {
   "cell_type": "code",
   "execution_count": 45,
   "id": "LJounEEtJWj0",
   "metadata": {
    "colab": {
     "base_uri": "https://localhost:8080/"
    },
    "id": "LJounEEtJWj0",
    "outputId": "1b925a23-f291-4742-f827-ed446f901295"
   },
   "outputs": [
    {
     "name": "stdout",
     "output_type": "stream",
     "text": [
      "Standardized Size(sqft) column:\n",
      " count    1.100000e+02\n",
      "mean    -6.913662e-17\n",
      "std      1.000000e+00\n",
      "min     -3.513648e-01\n",
      "25%     -2.475353e-01\n",
      "50%     -2.260272e-01\n",
      "75%     -2.084772e-01\n",
      "max      5.655131e+00\n",
      "Name: Size(sqft)_std, dtype: float64\n",
      "Standardized Price column:\n",
      " count    1.100000e+02\n",
      "mean    -1.185920e-17\n",
      "std      1.000000e+00\n",
      "min     -3.826930e+00\n",
      "25%     -8.944908e-02\n",
      "50%     -7.654606e-02\n",
      "75%     -5.608601e-02\n",
      "max      6.066320e+00\n",
      "Name: Price_std, dtype: float64\n"
     ]
    }
   ],
   "source": [
    "df['Size(sqft)_std'] = (df['Size(sqft)'] - df['Size(sqft)'].mean()) / df['Size(sqft)'].std()\n",
    "df['Price_std'] = (df['Price'] - df['Price'].mean()) / df['Price'].std()\n",
    "\n",
    "print(\"Standardized Size(sqft) column:\\n\", df['Size(sqft)_std'].describe())\n",
    "print(\"Standardized Price column:\\n\", df['Price_std'].describe())"
   ]
  },
  {
   "cell_type": "markdown",
   "id": "_B2ONZCpJW2L",
   "metadata": {
    "id": "_B2ONZCpJW2L"
   },
   "source": [
    "2. Mean Normalization:"
   ]
  },
  {
   "cell_type": "code",
   "execution_count": 51,
   "id": "dYjZBfQKJZb0",
   "metadata": {
    "colab": {
     "base_uri": "https://localhost:8080/"
    },
    "id": "dYjZBfQKJZb0",
    "outputId": "d3f889e6-b5f9-4d6a-9e4c-b9e9602dc396"
   },
   "outputs": [
    {
     "name": "stdout",
     "output_type": "stream",
     "text": [
      "Mean-normalized Bedrooms column:\n",
      " count    1.020000e+02\n",
      "mean    -1.496624e-18\n",
      "std      1.310718e-01\n",
      "min     -3.541496e-02\n",
      "25%     -2.547460e-02\n",
      "50%     -2.348653e-02\n",
      "75%     -1.951039e-02\n",
      "max      9.645850e-01\n",
      "Name: Bedrooms_norm, dtype: float64\n",
      "Mean-normalized Bathrooms column:\n",
      " count    9.000000e+01\n",
      "mean    -6.167906e-19\n",
      "std      1.662768e-01\n",
      "min     -5.174184e-02\n",
      "25%     -3.854052e-02\n",
      "50%     -3.524019e-02\n",
      "75%     -3.193986e-02\n",
      "max      9.482582e-01\n",
      "Name: Bathrooms_norm, dtype: float64\n"
     ]
    }
   ],
   "source": [
    "df['Bedrooms_norm'] = (df['Bedrooms'] - df['Bedrooms'].mean()) / (df['Bedrooms'].max() - df['Bedrooms'].min())\n",
    "df['Bathrooms_norm'] = (df['Bathrooms'] - df['Bathrooms'].mean()) / (df['Bathrooms'].max() - df['Bathrooms'].min())\n",
    "\n",
    "print(\"Mean-normalized Bedrooms column:\\n\", df['Bedrooms_norm'].describe())\n",
    "print(\"Mean-normalized Bathrooms column:\\n\", df['Bathrooms_norm'].describe())"
   ]
  },
  {
   "cell_type": "markdown",
   "id": "5Gg645v6JZwN",
   "metadata": {
    "id": "5Gg645v6JZwN"
   },
   "source": [
    "3. Min-Max Scaling:"
   ]
  },
  {
   "cell_type": "code",
   "execution_count": 47,
   "id": "ReMFF4jXJbm0",
   "metadata": {
    "colab": {
     "base_uri": "https://localhost:8080/"
    },
    "id": "ReMFF4jXJbm0",
    "outputId": "677902dd-02a3-454a-c63e-4941cadda179"
   },
   "outputs": [
    {
     "name": "stdout",
     "output_type": "stream",
     "text": [
      "Min-Max scaled Year Built column:\n",
      " count    99.000000\n",
      "mean      0.066797\n",
      "std       0.211703\n",
      "min       0.000000\n",
      "25%       0.019278\n",
      "50%       0.019429\n",
      "75%       0.019631\n",
      "max       1.000000\n",
      "Name: Year_Built_scaled, dtype: float64\n"
     ]
    }
   ],
   "source": [
    "df['Year_Built_scaled'] = (df['Year_Built'] - df['Year_Built'].min()) / (df['Year_Built'].max() - df['Year_Built'].min())\n",
    "\n",
    "print(\"Min-Max scaled Year Built column:\\n\", df['Year_Built_scaled'].describe())"
   ]
  },
  {
   "cell_type": "markdown",
   "id": "ER8JRBCVJcD3",
   "metadata": {
    "id": "ER8JRBCVJcD3"
   },
   "source": [
    "**Project 3: Encoding Categorical Variables**"
   ]
  },
  {
   "cell_type": "markdown",
   "id": "8h8ffZ1qJfq_",
   "metadata": {
    "id": "8h8ffZ1qJfq_"
   },
   "source": [
    "1. Label Encoding:"
   ]
  },
  {
   "cell_type": "code",
   "execution_count": 48,
   "id": "c4Pukb-wJihU",
   "metadata": {
    "colab": {
     "base_uri": "https://localhost:8080/"
    },
    "id": "c4Pukb-wJihU",
    "outputId": "4194a6c1-64c3-43e6-d208-148e82cd27de"
   },
   "outputs": [
    {
     "name": "stdout",
     "output_type": "stream",
     "text": [
      "Encoded Location column:\n",
      " 0    0\n",
      "1    2\n",
      "2    0\n",
      "3    2\n",
      "4    1\n",
      "Name: Location_encoded, dtype: int64\n"
     ]
    }
   ],
   "source": [
    "from sklearn.preprocessing import LabelEncoder\n",
    "\n",
    "le = LabelEncoder()\n",
    "df['Location_encoded'] = le.fit_transform(df['Location'])\n",
    "\n",
    "print(\"Encoded Location column:\\n\", df['Location_encoded'].head())"
   ]
  },
  {
   "cell_type": "markdown",
   "id": "q-faHmFXJiyN",
   "metadata": {
    "id": "q-faHmFXJiyN"
   },
   "source": [
    "2. One-Hot Encoding:"
   ]
  },
  {
   "cell_type": "code",
   "execution_count": 80,
   "id": "467YvqKUJkvU",
   "metadata": {
    "colab": {
     "base_uri": "https://localhost:8080/"
    },
    "id": "467YvqKUJkvU",
    "outputId": "b3223d82-3ad6-470d-c51a-ccdcefe74318"
   },
   "outputs": [
    {
     "name": "stdout",
     "output_type": "stream",
     "text": [
      "Data after one-hot encoding of House_Type:\n",
      "    ID  Size(sqft)  Bedrooms  Bathrooms  Location  Year_Built  Date_Sold  \\\n",
      "0   1       837.0       1.0        NaN     Rural      1938.0 2020-07-21   \n",
      "1   2      1378.0       1.0        1.0       NaN         NaN 2022-02-02   \n",
      "2   3    157600.0       4.0        1.0     Rural      1952.0 2023-06-06   \n",
      "3   4         NaN       NaN        1.0     Urban      1941.0 2023-06-04   \n",
      "4   5       879.0       6.0        3.0  Suburban         NaN        NaT   \n",
      "\n",
      "      Price  House_Type_168148  House_Type_275203  ...  House_Type_517113  \\\n",
      "0  221958.0              False              False  ...              False   \n",
      "1  771155.0              False              False  ...              False   \n",
      "2  231932.0              False              False  ...              False   \n",
      "3  465838.0              False              False  ...              False   \n",
      "4  359178.0              False              False  ...              False   \n",
      "\n",
      "   House_Type_627035  House_Type_655839  House_Type_665894  \\\n",
      "0              False              False              False   \n",
      "1              False              False              False   \n",
      "2              False              False              False   \n",
      "3              False              False              False   \n",
      "4              False              False              False   \n",
      "\n",
      "   House_Type_74416700  House_Type_748531  House_Type_Apartment  \\\n",
      "0                False              False                 False   \n",
      "1                False              False                 False   \n",
      "2                False              False                 False   \n",
      "3                False              False                 False   \n",
      "4                False              False                 False   \n",
      "\n",
      "   House_Type_Detached  House_Type_Semi-Detached  House_Type_Townhouse  \n",
      "0                False                     False                 False  \n",
      "1                False                     False                  True  \n",
      "2                False                      True                 False  \n",
      "3                False                     False                  True  \n",
      "4                False                     False                  True  \n",
      "\n",
      "[5 rows x 22 columns]\n"
     ]
    }
   ],
   "source": [
    "df = pd.get_dummies(df, columns=['House_Type'], drop_first=True)\n",
    "\n",
    "print(\"Data after one-hot encoding of House_Type:\\n\", df.head())"
   ]
  },
  {
   "cell_type": "markdown",
   "id": "V5hjnYzTJluJ",
   "metadata": {
    "id": "V5hjnYzTJluJ"
   },
   "source": [
    "**Project 4: Multivariate Analysis**"
   ]
  },
  {
   "cell_type": "markdown",
   "id": "r8TayBcPJpzt",
   "metadata": {
    "id": "r8TayBcPJpzt"
   },
   "source": [
    "1. Correlation Analysis:"
   ]
  },
  {
   "cell_type": "code",
   "execution_count": 83,
   "id": "FXrbC6aqJueE",
   "metadata": {
    "colab": {
     "base_uri": "https://localhost:8080/",
     "height": 842
    },
    "id": "FXrbC6aqJueE",
    "outputId": "d40f7737-a121-42b9-e991-afc21b051f9f"
   },
   "outputs": [
    {
     "data": {
      "image/png": "[encoded data removed]",
      "text/plain": [
       "<Figure size 1000x800 with 2 Axes>"
      ]
     },
     "metadata": {},
     "output_type": "display_data"
    },
    {
     "name": "stdout",
     "output_type": "stream",
     "text": [
      "Correlation matrix:\n",
      "                   ID  Size(sqft)  Bedrooms  Bathrooms  Year_Built     Price\n",
      "ID          1.000000   -0.243461  0.172088   0.173788   -0.032082 -0.160209\n",
      "Size(sqft) -0.243461    1.000000 -0.055249  -0.161219    0.022423 -0.046022\n",
      "Bedrooms    0.172088   -0.055249  1.000000   0.194139   -0.038040  0.060144\n",
      "Bathrooms   0.173788   -0.161219  0.194139   1.000000    0.113899  0.168624\n",
      "Year_Built -0.032082    0.022423 -0.038040   0.113899    1.000000  0.105637\n",
      "Price      -0.160209   -0.046022  0.060144   0.168624    0.105637  1.000000\n"
     ]
    }
   ],
   "source": [
    "numeric_df = df.select_dtypes(include=['float64', 'int64'])\n",
    "\n",
    "corr_matrix = numeric_df.corr()\n",
    "\n",
    "plt.figure(figsize=(10,8))\n",
    "sns.heatmap(corr_matrix, annot=True, cmap='coolwarm')\n",
    "plt.title('Correlation Heatmap')\n",
    "plt.show()\n",
    "\n",
    "print(\"Correlation matrix:\\n\", corr_matrix)"
   ]
  },
  {
   "cell_type": "markdown",
   "id": "ZVvjTMy5Jw7K",
   "metadata": {
    "id": "ZVvjTMy5Jw7K"
   },
   "source": [
    "2. Pairplot Analysis:"
   ]
  },
  {
   "cell_type": "code",
   "execution_count": 53,
   "id": "ZoYblEC8Jxoz",
   "metadata": {
    "colab": {
     "base_uri": "https://localhost:8080/",
     "height": 1000
    },
    "id": "ZoYblEC8Jxoz",
    "outputId": "dbc43e9d-6079-4f38-d7ce-c55781541791"
   },
   "outputs": [
    {
     "data": {
      "image/png": "[encoded data removed]",
      "text/plain": [
       "<Figure size 1000x1000 with 20 Axes>"
      ]
     },
     "metadata": {},
     "output_type": "display_data"
    },
    {
     "name": "stdout",
     "output_type": "stream",
     "text": [
      "Generated pairplot for 'Size(sqft)', 'Bedrooms', 'Bathrooms', and 'Price'.\n"
     ]
    }
   ],
   "source": [
    "sns.pairplot(df[['Size(sqft)', 'Bedrooms', 'Bathrooms', 'Price']])\n",
    "plt.show()\n",
    "\n",
    "print(\"Generated pairplot for 'Size(sqft)', 'Bedrooms', 'Bathrooms', and 'Price'.\")"
   ]
  }
 ],
 "metadata": {
  "colab": {
   "provenance": []
  },
  "kernelspec": {
   "display_name": "Python 3 (ipykernel)",
   "language": "python",
   "name": "python3"
  },
  "language_info": {
   "codemirror_mode": {
    "name": "ipython",
    "version": 3
   },
   "file_extension": ".py",
   "mimetype": "text/x-python",
   "name": "python",
   "nbconvert_exporter": "python",
   "pygments_lexer": "ipython3",
   "version": "3.11.5"
  }
 },
 "nbformat": 4,
 "nbformat_minor": 5
}
